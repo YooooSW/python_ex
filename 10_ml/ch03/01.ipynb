{
 "cells": [
  {
   "cell_type": "code",
   "execution_count": 1,
   "id": "a7024e04-8fda-4418-89fa-4a9a5cd0464f",
   "metadata": {},
   "outputs": [],
   "source": [
    "import warnings\n",
    "warnings.filterwarnings('ignore')"
   ]
  },
  {
   "cell_type": "code",
   "execution_count": 2,
   "id": "4c7273ae-af67-4a97-844e-693b78753887",
   "metadata": {},
   "outputs": [],
   "source": [
    "from sklearn.base import BaseEstimator"
   ]
  },
  {
   "cell_type": "code",
   "execution_count": 3,
   "id": "44a54fad-ab1e-4a30-987a-63569dddab13",
   "metadata": {},
   "outputs": [],
   "source": [
    "class MyDummyClassifier(BaseEstimator):\n",
    "    def fit(self,x,y=None):\n",
    "        pass\n",
    "\n",
    "    def predict(self,x):\n",
    "        pred = np.zeros((x.shape[0],1))\n",
    "        for i in range (x.shape[0]):\n",
    "            # print(pred)\n",
    "            if x['Sex'].iloc[i] == 1:\n",
    "                pred[i] = 0\n",
    "            else:\n",
    "                pred[i] = 1\n",
    "                \n",
    "        return pred"
   ]
  },
  {
   "cell_type": "code",
   "execution_count": 4,
   "id": "ea33e9df-c6f4-4436-9f39-37204a68d7ee",
   "metadata": {},
   "outputs": [],
   "source": [
    "import pandas as pd\n",
    "import numpy as np\n",
    "from sklearn.model_selection import train_test_split\n",
    "from sklearn.metrics import accuracy_score"
   ]
  },
  {
   "cell_type": "code",
   "execution_count": 5,
   "id": "24066764-43d4-4f82-92f4-43303fdf3559",
   "metadata": {},
   "outputs": [],
   "source": [
    "def fillna(df):\n",
    "    df['Age'].fillna(df['Age'].mean(), inplace=True)\n",
    "    df['Cabin'].fillna('N', inplace=True)\n",
    "    df['Embarked'].fillna('N', inplace=True)\n",
    "    df['Fare'].fillna(0, inplace=True)\n",
    "    return df\n",
    "\n",
    "def drop_features(df):\n",
    "    df.drop(columns=['PassengerId','Name','Ticket'],\n",
    "            inplace=True)\n",
    "    return df\n",
    "\n",
    "def format_features(df):\n",
    "    from sklearn.preprocessing import LabelEncoder\n",
    "    df['Cabin'] = df['Cabin'].str[:1]\n",
    "    features = ['Cabin','Sex','Embarked']\n",
    "    for feature in features:\n",
    "        le = LabelEncoder()\n",
    "        df[feature] = le.fit_transform(df[feature])\n",
    "    return df\n",
    "\n",
    "def transform_features(df):\n",
    "    df = fillna(df)\n",
    "    df = drop_features(df)\n",
    "    df = format_features(df)\n",
    "    return df"
   ]
  },
  {
   "cell_type": "code",
   "execution_count": 6,
   "id": "e579ea50-88ee-478f-97ee-a281d334873b",
   "metadata": {},
   "outputs": [],
   "source": [
    "df = pd.read_csv('train.csv')\n",
    "y = df['Survived']\n",
    "x = df.drop(columns='Survived')\n",
    "x = transform_features(x)\n",
    "\n",
    "x_train, x_test, y_train, y_test = train_test_split(x,\n",
    "                                                    y,\n",
    "                                                    test_size=0.2,\n",
    "                                                    random_state=11)"
   ]
  },
  {
   "cell_type": "code",
   "execution_count": 7,
   "id": "0da4e8f0-a5cc-42f9-be93-ebc85e4afee9",
   "metadata": {},
   "outputs": [
    {
     "name": "stdout",
     "output_type": "stream",
     "text": [
      "Dummy Classifier의 정확도는: 0.8324\n"
     ]
    }
   ],
   "source": [
    "myclf = MyDummyClassifier()\n",
    "myclf.fit(x_train,y_train)\n",
    "\n",
    "pred = myclf.predict(x_test)\n",
    "print('Dummy Classifier의 정확도는: {0:.4f}'.format(accuracy_score(y_test, pred)))"
   ]
  },
  {
   "cell_type": "code",
   "execution_count": 8,
   "id": "66efb952-1a18-4ca8-9d58-6bf9dc653b27",
   "metadata": {},
   "outputs": [],
   "source": [
    "from sklearn.metrics import confusion_matrix"
   ]
  },
  {
   "cell_type": "code",
   "execution_count": 9,
   "id": "6a44c7c5-9e1a-404f-a5e9-bdf20ec2c9b3",
   "metadata": {},
   "outputs": [
    {
     "data": {
      "text/plain": [
       "array([[103,  15],\n",
       "       [ 15,  46]], dtype=int64)"
      ]
     },
     "execution_count": 9,
     "metadata": {},
     "output_type": "execute_result"
    }
   ],
   "source": [
    "confusion_matrix(y_test, pred)"
   ]
  },
  {
   "cell_type": "code",
   "execution_count": 10,
   "id": "5ade7904-5154-4481-b236-ee47ca29c70f",
   "metadata": {},
   "outputs": [],
   "source": [
    "def get_clf_eval(y_test,pred):\n",
    "    from sklearn.metrics import accuracy_score, confusion_matrix, precision_score,recall_score\n",
    "    confusion = confusion_matrix(y_test,pred)\n",
    "    accuracy = accuracy_score(y_test,pred)\n",
    "    precision = precision_score(y_test,pred)\n",
    "    recall = recall_score(y_test,pred)\n",
    "    print('오차행렬')\n",
    "    print(confusion)\n",
    "    print(f'정확도:{accuracy:.4f}, 정밀도:{precision:.4f}, 재현율:{recall:.4f}')"
   ]
  },
  {
   "cell_type": "code",
   "execution_count": 11,
   "id": "5745a266-a413-4e14-b561-58b049c2a45b",
   "metadata": {},
   "outputs": [
    {
     "name": "stdout",
     "output_type": "stream",
     "text": [
      "오차행렬\n",
      "[[103  15]\n",
      " [ 15  46]]\n",
      "정확도:0.8324, 정밀도:0.7541, 재현율:0.7541\n"
     ]
    }
   ],
   "source": [
    "get_clf_eval(y_test,pred)"
   ]
  },
  {
   "cell_type": "code",
   "execution_count": 12,
   "id": "2e409f9d-1305-471d-b023-8ed1be30f60d",
   "metadata": {},
   "outputs": [],
   "source": [
    "from sklearn.linear_model import LogisticRegression"
   ]
  },
  {
   "cell_type": "code",
   "execution_count": 13,
   "id": "9e61925b-6afe-4959-b754-439e6a6d7114",
   "metadata": {},
   "outputs": [
    {
     "name": "stdout",
     "output_type": "stream",
     "text": [
      "오차행렬\n",
      "[[104  14]\n",
      " [ 13  48]]\n",
      "정확도:0.8492, 정밀도:0.7742, 재현율:0.7869\n"
     ]
    }
   ],
   "source": [
    "lr_clf = LogisticRegression()\n",
    "lr_clf.fit(x_train, y_train)\n",
    "pred = lr_clf.predict(x_test)\n",
    "get_clf_eval(y_test,pred)"
   ]
  },
  {
   "cell_type": "code",
   "execution_count": 14,
   "id": "a8280855-b6ef-47fa-b6e5-81bf0cb88c06",
   "metadata": {
    "tags": []
   },
   "outputs": [
    {
     "data": {
      "text/plain": [
       "array([[0.46205513, 0.53794487, 1.        ],\n",
       "       [0.87870787, 0.12129213, 0.        ],\n",
       "       [0.8771721 , 0.1228279 , 0.        ],\n",
       "       [0.88256572, 0.11743428, 0.        ],\n",
       "       [0.85532099, 0.14467901, 0.        ],\n",
       "       [0.88220231, 0.11779769, 0.        ],\n",
       "       [0.88844831, 0.11155169, 0.        ],\n",
       "       [0.20872256, 0.79127744, 1.        ],\n",
       "       [0.78289451, 0.21710549, 0.        ],\n",
       "       [0.3691594 , 0.6308406 , 1.        ],\n",
       "       [0.89977   , 0.10023   , 0.        ],\n",
       "       [0.87507533, 0.12492467, 0.        ],\n",
       "       [0.87716612, 0.12283388, 0.        ],\n",
       "       [0.88840241, 0.11159759, 0.        ],\n",
       "       [0.43681649, 0.56318351, 1.        ],\n",
       "       [0.85901797, 0.14098203, 0.        ],\n",
       "       [0.90375725, 0.09624275, 0.        ],\n",
       "       [0.73338708, 0.26661292, 0.        ],\n",
       "       [0.72483711, 0.27516289, 0.        ],\n",
       "       [0.17151769, 0.82848231, 1.        ],\n",
       "       [0.75356422, 0.24643578, 0.        ],\n",
       "       [0.61903536, 0.38096464, 0.        ],\n",
       "       [0.85465697, 0.14534303, 0.        ],\n",
       "       [0.81468255, 0.18531745, 0.        ],\n",
       "       [0.8880317 , 0.1119683 , 0.        ],\n",
       "       [0.7654714 , 0.2345286 , 0.        ],\n",
       "       [0.85962733, 0.14037267, 0.        ],\n",
       "       [0.92581384, 0.07418616, 0.        ],\n",
       "       [0.71956049, 0.28043951, 0.        ],\n",
       "       [0.69558128, 0.30441872, 0.        ],\n",
       "       [0.0527893 , 0.9472107 , 1.        ],\n",
       "       [0.182766  , 0.817234  , 1.        ],\n",
       "       [0.87311577, 0.12688423, 0.        ],\n",
       "       [0.17374946, 0.82625054, 1.        ],\n",
       "       [0.60059681, 0.39940319, 0.        ],\n",
       "       [0.7654714 , 0.2345286 , 0.        ],\n",
       "       [0.92760964, 0.07239036, 0.        ],\n",
       "       [0.38908988, 0.61091012, 1.        ],\n",
       "       [0.94710853, 0.05289147, 0.        ],\n",
       "       [0.89610731, 0.10389269, 0.        ],\n",
       "       [0.64901889, 0.35098111, 0.        ],\n",
       "       [0.91660154, 0.08339846, 0.        ],\n",
       "       [0.1782957 , 0.8217043 , 1.        ],\n",
       "       [0.29222795, 0.70777205, 1.        ],\n",
       "       [0.3695327 , 0.6304673 , 1.        ],\n",
       "       [0.36951641, 0.63048359, 1.        ],\n",
       "       [0.08110488, 0.91889512, 1.        ],\n",
       "       [0.64071603, 0.35928397, 0.        ],\n",
       "       [0.05113342, 0.94886658, 1.        ],\n",
       "       [0.88799717, 0.11200283, 0.        ],\n",
       "       [0.40749865, 0.59250135, 1.        ],\n",
       "       [0.88840241, 0.11159759, 0.        ],\n",
       "       [0.86724246, 0.13275754, 0.        ],\n",
       "       [0.27461337, 0.72538663, 1.        ],\n",
       "       [0.69063636, 0.30936364, 0.        ],\n",
       "       [0.80289498, 0.19710502, 0.        ],\n",
       "       [0.77368878, 0.22631122, 0.        ],\n",
       "       [0.87717106, 0.12282894, 0.        ],\n",
       "       [0.84583768, 0.15416232, 0.        ],\n",
       "       [0.56749468, 0.43250532, 0.        ],\n",
       "       [0.71985242, 0.28014758, 0.        ],\n",
       "       [0.89929675, 0.10070325, 0.        ],\n",
       "       [0.45471821, 0.54528179, 1.        ],\n",
       "       [0.48563052, 0.51436948, 1.        ],\n",
       "       [0.55577902, 0.44422098, 0.        ],\n",
       "       [0.90542216, 0.09457784, 0.        ],\n",
       "       [0.33327268, 0.66672732, 1.        ],\n",
       "       [0.40593968, 0.59406032, 1.        ],\n",
       "       [0.04818018, 0.95181982, 1.        ],\n",
       "       [0.85178011, 0.14821989, 0.        ],\n",
       "       [0.87118524, 0.12881476, 0.        ],\n",
       "       [0.83159908, 0.16840092, 0.        ],\n",
       "       [0.89610506, 0.10389494, 0.        ],\n",
       "       [0.05201132, 0.94798868, 1.        ],\n",
       "       [0.80133175, 0.19866825, 0.        ],\n",
       "       [0.88840241, 0.11159759, 0.        ],\n",
       "       [0.65205839, 0.34794161, 0.        ],\n",
       "       [0.81630382, 0.18369618, 0.        ],\n",
       "       [0.16437014, 0.83562986, 1.        ],\n",
       "       [0.87717106, 0.12282894, 0.        ],\n",
       "       [0.20522468, 0.79477532, 1.        ],\n",
       "       [0.35427129, 0.64572871, 1.        ],\n",
       "       [0.06887424, 0.93112576, 1.        ],\n",
       "       [0.86687178, 0.13312822, 0.        ],\n",
       "       [0.05108274, 0.94891726, 1.        ],\n",
       "       [0.04969348, 0.95030652, 1.        ],\n",
       "       [0.84643458, 0.15356542, 0.        ],\n",
       "       [0.87452588, 0.12547412, 0.        ],\n",
       "       [0.1254158 , 0.8745842 , 1.        ],\n",
       "       [0.88840241, 0.11159759, 0.        ],\n",
       "       [0.88840241, 0.11159759, 0.        ],\n",
       "       [0.7654714 , 0.2345286 , 0.        ],\n",
       "       [0.76759824, 0.23240176, 0.        ],\n",
       "       [0.88840241, 0.11159759, 0.        ],\n",
       "       [0.36951641, 0.63048359, 1.        ],\n",
       "       [0.9242959 , 0.0757041 , 0.        ],\n",
       "       [0.07114804, 0.92885196, 1.        ],\n",
       "       [0.89930663, 0.10069337, 0.        ],\n",
       "       [0.49485625, 0.50514375, 1.        ],\n",
       "       [0.03492215, 0.96507785, 1.        ],\n",
       "       [0.49828357, 0.50171643, 1.        ],\n",
       "       [0.90557339, 0.09442661, 0.        ],\n",
       "       [0.0521064 , 0.9478936 , 1.        ],\n",
       "       [0.90247931, 0.09752069, 0.        ],\n",
       "       [0.47001078, 0.52998922, 1.        ],\n",
       "       [0.87165499, 0.12834501, 0.        ],\n",
       "       [0.85897094, 0.14102906, 0.        ],\n",
       "       [0.85178042, 0.14821958, 0.        ],\n",
       "       [0.55069776, 0.44930224, 0.        ],\n",
       "       [0.89209923, 0.10790077, 0.        ],\n",
       "       [0.88292227, 0.11707773, 0.        ],\n",
       "       [0.89113558, 0.10886442, 0.        ],\n",
       "       [0.5968019 , 0.4031981 , 0.        ],\n",
       "       [0.346056  , 0.653944  , 1.        ],\n",
       "       [0.8880317 , 0.1119683 , 0.        ],\n",
       "       [0.92903779, 0.07096221, 0.        ],\n",
       "       [0.87559755, 0.12440245, 0.        ],\n",
       "       [0.80156203, 0.19843797, 0.        ],\n",
       "       [0.07402178, 0.92597822, 1.        ],\n",
       "       [0.93134697, 0.06865303, 0.        ],\n",
       "       [0.88841125, 0.11158875, 0.        ],\n",
       "       [0.86921053, 0.13078947, 0.        ],\n",
       "       [0.93632874, 0.06367126, 0.        ],\n",
       "       [0.67797681, 0.32202319, 0.        ],\n",
       "       [0.98840201, 0.01159799, 0.        ],\n",
       "       [0.88841125, 0.11158875, 0.        ],\n",
       "       [0.88378475, 0.11621525, 0.        ],\n",
       "       [0.68334082, 0.31665918, 0.        ],\n",
       "       [0.32225936, 0.67774064, 1.        ],\n",
       "       [0.67841289, 0.32158711, 0.        ],\n",
       "       [0.03492215, 0.96507785, 1.        ],\n",
       "       [0.54624539, 0.45375461, 0.        ],\n",
       "       [0.26465653, 0.73534347, 1.        ],\n",
       "       [0.55663737, 0.44336263, 0.        ],\n",
       "       [0.43026043, 0.56973957, 1.        ],\n",
       "       [0.64870119, 0.35129881, 0.        ],\n",
       "       [0.25146124, 0.74853876, 1.        ],\n",
       "       [0.81389463, 0.18610537, 0.        ],\n",
       "       [0.89607991, 0.10392009, 0.        ],\n",
       "       [0.19651837, 0.80348163, 1.        ],\n",
       "       [0.09106019, 0.90893981, 1.        ],\n",
       "       [0.85178042, 0.14821958, 0.        ],\n",
       "       [0.88196546, 0.11803454, 0.        ],\n",
       "       [0.89878573, 0.10121427, 0.        ],\n",
       "       [0.90838685, 0.09161315, 0.        ],\n",
       "       [0.33190276, 0.66809724, 1.        ],\n",
       "       [0.92434095, 0.07565905, 0.        ],\n",
       "       [0.76610679, 0.23389321, 0.        ],\n",
       "       [0.08196016, 0.91803984, 1.        ],\n",
       "       [0.83183361, 0.16816639, 0.        ],\n",
       "       [0.57117423, 0.42882577, 0.        ],\n",
       "       [0.36844464, 0.63155536, 1.        ],\n",
       "       [0.36351374, 0.63648626, 1.        ],\n",
       "       [0.87722666, 0.12277334, 0.        ],\n",
       "       [0.22228784, 0.77771216, 1.        ],\n",
       "       [0.11923362, 0.88076638, 1.        ],\n",
       "       [0.51285105, 0.48714895, 0.        ],\n",
       "       [0.86707909, 0.13292091, 0.        ],\n",
       "       [0.24822613, 0.75177387, 1.        ],\n",
       "       [0.30955612, 0.69044388, 1.        ],\n",
       "       [0.85026413, 0.14973587, 0.        ],\n",
       "       [0.20689081, 0.79310919, 1.        ],\n",
       "       [0.9087473 , 0.0912527 , 0.        ],\n",
       "       [0.33334021, 0.66665979, 1.        ],\n",
       "       [0.61990485, 0.38009515, 0.        ],\n",
       "       [0.34877024, 0.65122976, 1.        ],\n",
       "       [0.1157421 , 0.8842579 , 1.        ],\n",
       "       [0.69076412, 0.30923588, 0.        ],\n",
       "       [0.90836758, 0.09163242, 0.        ],\n",
       "       [0.10702086, 0.89297914, 1.        ],\n",
       "       [0.88844831, 0.11155169, 0.        ],\n",
       "       [0.14582709, 0.85417291, 1.        ],\n",
       "       [0.74921615, 0.25078385, 0.        ],\n",
       "       [0.75984346, 0.24015654, 0.        ],\n",
       "       [0.59863834, 0.40136166, 0.        ],\n",
       "       [0.93769877, 0.06230123, 0.        ],\n",
       "       [0.85896393, 0.14103607, 0.        ],\n",
       "       [0.4552852 , 0.5447148 , 1.        ],\n",
       "       [0.37321885, 0.62678115, 1.        ]])"
      ]
     },
     "execution_count": 14,
     "metadata": {},
     "output_type": "execute_result"
    }
   ],
   "source": [
    "pred_proba = lr_clf.predict_proba(x_test)\n",
    "np.concatenate([pred_proba,pred.reshape(-1,1)],axis=1)"
   ]
  },
  {
   "cell_type": "code",
   "execution_count": 15,
   "id": "782147d9-0631-4b03-8613-7ee581f959c4",
   "metadata": {},
   "outputs": [],
   "source": [
    "from sklearn.preprocessing import Binarizer"
   ]
  },
  {
   "cell_type": "code",
   "execution_count": 16,
   "id": "70f632be-f647-440b-b459-1959f2d7a42c",
   "metadata": {},
   "outputs": [
    {
     "data": {
      "text/plain": [
       "array([[0., 0., 1.],\n",
       "       [1., 0., 0.],\n",
       "       [0., 0., 1.]])"
      ]
     },
     "execution_count": 16,
     "metadata": {},
     "output_type": "execute_result"
    }
   ],
   "source": [
    "x = [[1,-1,2],\n",
    "     [2,0,0],\n",
    "     [0,1.1,1.2]]\n",
    "binarizer = Binarizer(threshold=1.1) # 1.1보다작으면0 1.1보다크면1\n",
    "binarizer.fit_transform(x)"
   ]
  },
  {
   "cell_type": "code",
   "execution_count": 17,
   "id": "3da836b2-dcc8-4515-85bb-08bf16320e8b",
   "metadata": {
    "tags": []
   },
   "outputs": [],
   "source": [
    "binarizer = Binarizer(threshold=0.6)\n",
    "pred_1 = binarizer.fit_transform(pred_proba[:,1].reshape(-1,1))"
   ]
  },
  {
   "cell_type": "code",
   "execution_count": 18,
   "id": "2db00797-133f-41ee-9da8-fbf19cb1caef",
   "metadata": {},
   "outputs": [
    {
     "name": "stdout",
     "output_type": "stream",
     "text": [
      "오차행렬\n",
      "[[112   6]\n",
      " [ 16  45]]\n",
      "정확도:0.8771, 정밀도:0.8824, 재현율:0.7377\n"
     ]
    }
   ],
   "source": [
    "get_clf_eval(y_test,pred_1)\n",
    "# 0.5일때\n",
    "# 오차행렬\n",
    "# [[104  14]\n",
    "#  [ 13  48]]\n",
    "# 정확도:0.8492, 정밀도:0.7742, 재현율:0.7869\n",
    "\n",
    "# 0.4일때 threshold=0.5에비해 정확도,정밀도떨어지고 재현율오름\n",
    "# 오차행렬\n",
    "# [[98 20]\n",
    "#  [10 51]]\n",
    "# 정확도:0.8324, 정밀도:0.7183, 재현율:0.8361\n",
    "\n",
    "# 0.6일때는 threshold=0.4에비해 정확도정밀도 오르고 재현율떨어짐\n",
    "# 오차행렬\n",
    "# [[112   6]\n",
    "#  [ 16  45]]\n",
    "# 정확도:0.8771, 정밀도:0.8824, 재현율:0.7377"
   ]
  },
  {
   "cell_type": "markdown",
   "id": "0fde0c8d-bba2-4f93-b17f-170ee1214c42",
   "metadata": {
    "tags": []
   },
   "source": [
    "정밀도/재현율 트레이드오프 pdf 3장 13페이지\n",
    "분류의 결정 임곗값(Threshold)을 조정해 정밀도 또는 재현율의 수치를 높일 수 있습니다."
   ]
  },
  {
   "cell_type": "code",
   "execution_count": 19,
   "id": "01d99d13-cf56-4b5c-8208-3c7a8ef77a3a",
   "metadata": {},
   "outputs": [],
   "source": [
    "# 5/10 수요일"
   ]
  },
  {
   "cell_type": "code",
   "execution_count": 20,
   "id": "bfc36f47-ebf9-44d8-8d87-043b65319f0c",
   "metadata": {},
   "outputs": [],
   "source": [
    "from sklearn.metrics import precision_recall_curve"
   ]
  },
  {
   "cell_type": "code",
   "execution_count": 21,
   "id": "24518083-c906-4280-bf27-d074be552399",
   "metadata": {
    "tags": []
   },
   "outputs": [
    {
     "data": {
      "text/plain": [
       "array([0.53794487, 0.12129213, 0.1228279 , 0.11743428, 0.14467901,\n",
       "       0.11779769, 0.11155169, 0.79127744, 0.21710549, 0.6308406 ,\n",
       "       0.10023   , 0.12492467, 0.12283388, 0.11159759, 0.56318351,\n",
       "       0.14098203, 0.09624275, 0.26661292, 0.27516289, 0.82848231,\n",
       "       0.24643578, 0.38096464, 0.14534303, 0.18531745, 0.1119683 ,\n",
       "       0.2345286 , 0.14037267, 0.07418616, 0.28043951, 0.30441872,\n",
       "       0.9472107 , 0.817234  , 0.12688423, 0.82625054, 0.39940319,\n",
       "       0.2345286 , 0.07239036, 0.61091012, 0.05289147, 0.10389269,\n",
       "       0.35098111, 0.08339846, 0.8217043 , 0.70777205, 0.6304673 ,\n",
       "       0.63048359, 0.91889512, 0.35928397, 0.94886658, 0.11200283,\n",
       "       0.59250135, 0.11159759, 0.13275754, 0.72538663, 0.30936364,\n",
       "       0.19710502, 0.22631122, 0.12282894, 0.15416232, 0.43250532,\n",
       "       0.28014758, 0.10070325, 0.54528179, 0.51436948, 0.44422098,\n",
       "       0.09457784, 0.66672732, 0.59406032, 0.95181982, 0.14821989,\n",
       "       0.12881476, 0.16840092, 0.10389494, 0.94798868, 0.19866825,\n",
       "       0.11159759, 0.34794161, 0.18369618, 0.83562986, 0.12282894,\n",
       "       0.79477532, 0.64572871, 0.93112576, 0.13312822, 0.94891726,\n",
       "       0.95030652, 0.15356542, 0.12547412, 0.8745842 , 0.11159759,\n",
       "       0.11159759, 0.2345286 , 0.23240176, 0.11159759, 0.63048359,\n",
       "       0.0757041 , 0.92885196, 0.10069337, 0.50514375, 0.96507785,\n",
       "       0.50171643, 0.09442661, 0.9478936 , 0.09752069, 0.52998922,\n",
       "       0.12834501, 0.14102906, 0.14821958, 0.44930224, 0.10790077,\n",
       "       0.11707773, 0.10886442, 0.4031981 , 0.653944  , 0.1119683 ,\n",
       "       0.07096221, 0.12440245, 0.19843797, 0.92597822, 0.06865303,\n",
       "       0.11158875, 0.13078947, 0.06367126, 0.32202319, 0.01159799,\n",
       "       0.11158875, 0.11621525, 0.31665918, 0.67774064, 0.32158711,\n",
       "       0.96507785, 0.45375461, 0.73534347, 0.44336263, 0.56973957,\n",
       "       0.35129881, 0.74853876, 0.18610537, 0.10392009, 0.80348163,\n",
       "       0.90893981, 0.14821958, 0.11803454, 0.10121427, 0.09161315,\n",
       "       0.66809724, 0.07565905, 0.23389321, 0.91803984, 0.16816639,\n",
       "       0.42882577, 0.63155536, 0.63648626, 0.12277334, 0.77771216,\n",
       "       0.88076638, 0.48714895, 0.13292091, 0.75177387, 0.69044388,\n",
       "       0.14973587, 0.79310919, 0.0912527 , 0.66665979, 0.38009515,\n",
       "       0.65122976, 0.8842579 , 0.30923588, 0.09163242, 0.89297914,\n",
       "       0.11155169, 0.85417291, 0.25078385, 0.24015654, 0.40136166,\n",
       "       0.06230123, 0.14103607, 0.5447148 , 0.62678115])"
      ]
     },
     "execution_count": 21,
     "metadata": {},
     "output_type": "execute_result"
    }
   ],
   "source": [
    "pred_proba[:,1]"
   ]
  },
  {
   "cell_type": "code",
   "execution_count": 22,
   "id": "8ead0f83-8deb-40a9-a343-593e6b8a01db",
   "metadata": {
    "tags": []
   },
   "outputs": [
    {
     "data": {
      "text/plain": [
       "431    1\n",
       "821    1\n",
       "629    0\n",
       "626    0\n",
       "665    0\n",
       "      ..\n",
       "638    0\n",
       "771    0\n",
       "521    0\n",
       "711    0\n",
       "484    1\n",
       "Name: Survived, Length: 179, dtype: int64"
      ]
     },
     "execution_count": 22,
     "metadata": {},
     "output_type": "execute_result"
    }
   ],
   "source": [
    "y_test"
   ]
  },
  {
   "cell_type": "code",
   "execution_count": 23,
   "id": "96debedd-ceeb-4f98-8bed-e6d292b407a5",
   "metadata": {
    "collapsed": true,
    "jupyter": {
     "outputs_hidden": true
    },
    "tags": []
   },
   "outputs": [
    {
     "data": {
      "text/plain": [
       "(array([0.34078212, 0.34269663, 0.34463277, 0.34659091, 0.34857143,\n",
       "        0.35057471, 0.35260116, 0.35465116, 0.35672515, 0.35882353,\n",
       "        0.36094675, 0.36309524, 0.36526946, 0.36746988, 0.36969697,\n",
       "        0.37195122, 0.37423313, 0.37654321, 0.37888199, 0.38125   ,\n",
       "        0.3836478 , 0.38607595, 0.38853503, 0.38461538, 0.38709677,\n",
       "        0.38961039, 0.38562092, 0.38815789, 0.39333333, 0.39864865,\n",
       "        0.41549296, 0.42142857, 0.42446043, 0.42753623, 0.43065693,\n",
       "        0.43382353, 0.43703704, 0.44029851, 0.43609023, 0.43939394,\n",
       "        0.44274809, 0.44186047, 0.4453125 , 0.4488189 , 0.45238095,\n",
       "        0.448     , 0.4516129 , 0.44715447, 0.45081967, 0.45454545,\n",
       "        0.45833333, 0.46218487, 0.46610169, 0.47008547, 0.47413793,\n",
       "        0.47826087, 0.48245614, 0.48672566, 0.49107143, 0.5       ,\n",
       "        0.50458716, 0.50925926, 0.51401869, 0.51886792, 0.52380952,\n",
       "        0.52884615, 0.53398058, 0.53921569, 0.54455446, 0.55      ,\n",
       "        0.55555556, 0.56122449, 0.56701031, 0.57291667, 0.57894737,\n",
       "        0.58510638, 0.6043956 , 0.61111111, 0.61797753, 0.625     ,\n",
       "        0.63218391, 0.63953488, 0.64705882, 0.6547619 , 0.6626506 ,\n",
       "        0.65853659, 0.66666667, 0.675     , 0.6835443 , 0.69230769,\n",
       "        0.68831169, 0.69736842, 0.70666667, 0.7027027 , 0.71232877,\n",
       "        0.72222222, 0.71830986, 0.72857143, 0.72463768, 0.73529412,\n",
       "        0.74626866, 0.75757576, 0.75384615, 0.765625  , 0.76190476,\n",
       "        0.77419355, 0.78688525, 0.8       , 0.81355932, 0.82758621,\n",
       "        0.8245614 , 0.83928571, 0.83636364, 0.85185185, 0.86792453,\n",
       "        0.88461538, 0.88235294, 0.9       , 0.89795918, 0.91666667,\n",
       "        0.91304348, 0.91111111, 0.90909091, 0.93023256, 0.92857143,\n",
       "        0.95121951, 0.95      , 0.94871795, 0.94736842, 0.94594595,\n",
       "        0.94444444, 0.94285714, 0.94117647, 0.93939394, 0.9375    ,\n",
       "        0.93548387, 0.96666667, 0.96551724, 0.96428571, 0.96296296,\n",
       "        0.96153846, 0.96      , 0.95833333, 0.95652174, 0.95454545,\n",
       "        0.95238095, 0.95      , 0.94736842, 0.94444444, 0.94117647,\n",
       "        0.9375    , 0.93333333, 1.        , 1.        , 1.        ,\n",
       "        1.        , 1.        , 1.        , 1.        , 1.        ,\n",
       "        1.        , 1.        , 1.        , 1.        , 1.        ,\n",
       "        1.        ]),\n",
       " array([1.        , 1.        , 1.        , 1.        , 1.        ,\n",
       "        1.        , 1.        , 1.        , 1.        , 1.        ,\n",
       "        1.        , 1.        , 1.        , 1.        , 1.        ,\n",
       "        1.        , 1.        , 1.        , 1.        , 1.        ,\n",
       "        1.        , 1.        , 1.        , 0.98360656, 0.98360656,\n",
       "        0.98360656, 0.96721311, 0.96721311, 0.96721311, 0.96721311,\n",
       "        0.96721311, 0.96721311, 0.96721311, 0.96721311, 0.96721311,\n",
       "        0.96721311, 0.96721311, 0.96721311, 0.95081967, 0.95081967,\n",
       "        0.95081967, 0.93442623, 0.93442623, 0.93442623, 0.93442623,\n",
       "        0.91803279, 0.91803279, 0.90163934, 0.90163934, 0.90163934,\n",
       "        0.90163934, 0.90163934, 0.90163934, 0.90163934, 0.90163934,\n",
       "        0.90163934, 0.90163934, 0.90163934, 0.90163934, 0.90163934,\n",
       "        0.90163934, 0.90163934, 0.90163934, 0.90163934, 0.90163934,\n",
       "        0.90163934, 0.90163934, 0.90163934, 0.90163934, 0.90163934,\n",
       "        0.90163934, 0.90163934, 0.90163934, 0.90163934, 0.90163934,\n",
       "        0.90163934, 0.90163934, 0.90163934, 0.90163934, 0.90163934,\n",
       "        0.90163934, 0.90163934, 0.90163934, 0.90163934, 0.90163934,\n",
       "        0.8852459 , 0.8852459 , 0.8852459 , 0.8852459 , 0.8852459 ,\n",
       "        0.86885246, 0.86885246, 0.86885246, 0.85245902, 0.85245902,\n",
       "        0.85245902, 0.83606557, 0.83606557, 0.81967213, 0.81967213,\n",
       "        0.81967213, 0.81967213, 0.80327869, 0.80327869, 0.78688525,\n",
       "        0.78688525, 0.78688525, 0.78688525, 0.78688525, 0.78688525,\n",
       "        0.7704918 , 0.7704918 , 0.75409836, 0.75409836, 0.75409836,\n",
       "        0.75409836, 0.73770492, 0.73770492, 0.72131148, 0.72131148,\n",
       "        0.68852459, 0.67213115, 0.6557377 , 0.6557377 , 0.63934426,\n",
       "        0.63934426, 0.62295082, 0.60655738, 0.59016393, 0.57377049,\n",
       "        0.55737705, 0.54098361, 0.52459016, 0.50819672, 0.49180328,\n",
       "        0.47540984, 0.47540984, 0.45901639, 0.44262295, 0.42622951,\n",
       "        0.40983607, 0.39344262, 0.37704918, 0.36065574, 0.3442623 ,\n",
       "        0.32786885, 0.31147541, 0.29508197, 0.27868852, 0.26229508,\n",
       "        0.24590164, 0.2295082 , 0.2295082 , 0.21311475, 0.19672131,\n",
       "        0.18032787, 0.16393443, 0.14754098, 0.13114754, 0.1147541 ,\n",
       "        0.09836066, 0.08196721, 0.06557377, 0.04918033, 0.03278689,\n",
       "        0.        ]),\n",
       " array([0.01159799, 0.05289147, 0.06230123, 0.06367126, 0.06865303,\n",
       "        0.07096221, 0.07239036, 0.07418616, 0.07565905, 0.0757041 ,\n",
       "        0.08339846, 0.0912527 , 0.09161315, 0.09163242, 0.09442661,\n",
       "        0.09457784, 0.09624275, 0.09752069, 0.10023   , 0.10069337,\n",
       "        0.10070325, 0.10121427, 0.10389269, 0.10389494, 0.10392009,\n",
       "        0.10790077, 0.10886442, 0.11155169, 0.11158875, 0.11159759,\n",
       "        0.1119683 , 0.11200283, 0.11621525, 0.11707773, 0.11743428,\n",
       "        0.11779769, 0.11803454, 0.12129213, 0.12277334, 0.1228279 ,\n",
       "        0.12282894, 0.12283388, 0.12440245, 0.12492467, 0.12547412,\n",
       "        0.12688423, 0.12834501, 0.12881476, 0.13078947, 0.13275754,\n",
       "        0.13292091, 0.13312822, 0.14037267, 0.14098203, 0.14102906,\n",
       "        0.14103607, 0.14467901, 0.14534303, 0.14821958, 0.14821989,\n",
       "        0.14973587, 0.15356542, 0.15416232, 0.16816639, 0.16840092,\n",
       "        0.18369618, 0.18531745, 0.18610537, 0.19710502, 0.19843797,\n",
       "        0.19866825, 0.21710549, 0.22631122, 0.23240176, 0.23389321,\n",
       "        0.2345286 , 0.24015654, 0.24643578, 0.25078385, 0.26661292,\n",
       "        0.27516289, 0.28014758, 0.28043951, 0.30441872, 0.30923588,\n",
       "        0.30936364, 0.31665918, 0.32158711, 0.32202319, 0.34794161,\n",
       "        0.35098111, 0.35129881, 0.35928397, 0.38009515, 0.38096464,\n",
       "        0.39940319, 0.40136166, 0.4031981 , 0.42882577, 0.43250532,\n",
       "        0.44336263, 0.44422098, 0.44930224, 0.45375461, 0.48714895,\n",
       "        0.50171643, 0.50514375, 0.51436948, 0.52998922, 0.53794487,\n",
       "        0.5447148 , 0.54528179, 0.56318351, 0.56973957, 0.59250135,\n",
       "        0.59406032, 0.61091012, 0.62678115, 0.6304673 , 0.63048359,\n",
       "        0.6308406 , 0.63155536, 0.63648626, 0.64572871, 0.65122976,\n",
       "        0.653944  , 0.66665979, 0.66672732, 0.66809724, 0.67774064,\n",
       "        0.69044388, 0.70777205, 0.72538663, 0.73534347, 0.74853876,\n",
       "        0.75177387, 0.77771216, 0.79127744, 0.79310919, 0.79477532,\n",
       "        0.80348163, 0.817234  , 0.8217043 , 0.82625054, 0.82848231,\n",
       "        0.83562986, 0.85417291, 0.8745842 , 0.88076638, 0.8842579 ,\n",
       "        0.89297914, 0.90893981, 0.91803984, 0.91889512, 0.92597822,\n",
       "        0.92885196, 0.93112576, 0.9472107 , 0.9478936 , 0.94798868,\n",
       "        0.94886658, 0.94891726, 0.95030652, 0.95181982, 0.96507785]))"
      ]
     },
     "execution_count": 23,
     "metadata": {},
     "output_type": "execute_result"
    }
   ],
   "source": [
    "precision_recall_curve(y_test,pred_proba[:,1])"
   ]
  },
  {
   "cell_type": "code",
   "execution_count": 24,
   "id": "37742678-ca78-470c-ae4c-6a60f27737e2",
   "metadata": {},
   "outputs": [],
   "source": [
    "import matplotlib.pyplot as plt\n",
    "import matplotlib.ticker as ticker"
   ]
  },
  {
   "cell_type": "code",
   "execution_count": 25,
   "id": "0773a3ef-4c7f-4a68-a38d-a3013ebc713d",
   "metadata": {},
   "outputs": [
    {
     "data": {
      "image/png": "[encoded data removed]",
      "text/plain": [
       "<Figure size 800x600 with 1 Axes>"
      ]
     },
     "metadata": {},
     "output_type": "display_data"
    }
   ],
   "source": [
    "def precision_recall_curve_plot(y_test,pred_proba):\n",
    "    precisions,recalls,thresholds = precision_recall_curve(y_test,\n",
    "                                                           pred_proba)\n",
    "    plt.figure(figsize=(8,6))\n",
    "    threshold_boundary = thresholds.shape[0]\n",
    "    plt.plot(thresholds,\n",
    "             precisions[0:threshold_boundary],\n",
    "             linestyle='--',\n",
    "             label='precision')\n",
    "    plt.plot(thresholds,\n",
    "             recalls[0:threshold_boundary],\n",
    "             label='recall')\n",
    "    start,end = plt.xlim()\n",
    "    plt.xticks(np.round( np.arange(start,end,0.1) , 2))\n",
    "    plt.legend()\n",
    "    plt.grid()\n",
    "    plt.show()\n",
    "\n",
    "precision_recall_curve_plot(y_test,pred_proba[:,1])"
   ]
  },
  {
   "cell_type": "code",
   "execution_count": 26,
   "id": "3c5b64a9-6559-4cf6-87ad-41c8ae0f9819",
   "metadata": {},
   "outputs": [],
   "source": [
    "from sklearn.metrics import f1_score"
   ]
  },
  {
   "cell_type": "code",
   "execution_count": 27,
   "id": "ca1ce704-06ac-4b99-a66c-8c158bd7796d",
   "metadata": {},
   "outputs": [
    {
     "data": {
      "text/plain": [
       "0.7804878048780488"
      ]
     },
     "execution_count": 27,
     "metadata": {},
     "output_type": "execute_result"
    }
   ],
   "source": [
    "f1_score(y_test,pred)"
   ]
  },
  {
   "cell_type": "code",
   "execution_count": 73,
   "id": "0bf9766b-c959-4683-8936-2779b2edd48f",
   "metadata": {},
   "outputs": [],
   "source": [
    "def get_clf_eval(y_test,pred=None,pred_proba=None):\n",
    "    from sklearn.metrics import accuracy_score, confusion_matrix, precision_score,recall_score,f1_score,roc_auc_score\n",
    "    confusion = confusion_matrix(y_test,pred)\n",
    "    accuracy = accuracy_score(y_test,pred)\n",
    "    precision = precision_score(y_test,pred)\n",
    "    recall = recall_score(y_test,pred)\n",
    "    f1 = f1_score(y_test,pred)\n",
    "    roc_auc = roc_auc_score(y_test,pred) #pred_proba를쓰면 auc값동일하게나옴(pred의 1열데이터들만사용하기때문에)\n",
    "                                               #그래서pred를 써야함\n",
    "    print('오차행렬')\n",
    "    print(confusion)\n",
    "    print(f'''정확도:{accuracy:.4f},\n",
    "정밀도:{precision:.4f},\n",
    "재현율:{recall:.4f},\n",
    "f1:{f1:.4f},\n",
    "AUC:{roc_auc:.4f}\n",
    "------------------------''')\n",
    "    \n",
    "def get_eval_by_threshold(y_test,pred_proba,thresholds):\n",
    "    from sklearn.preprocessing import Binarizer\n",
    "    for threshold in thresholds:\n",
    "        pred = Binarizer(threshold=threshold).fit_transform(pred_proba)\n",
    "        print('임계값:',threshold)\n",
    "        get_clf_eval(y_test,pred,pred_proba)"
   ]
  },
  {
   "cell_type": "code",
   "execution_count": 74,
   "id": "7390ef1a-c9d1-4836-8cad-10eb24bd0fda",
   "metadata": {
    "tags": []
   },
   "outputs": [
    {
     "name": "stdout",
     "output_type": "stream",
     "text": [
      "임계값: 0.4\n",
      "오차행렬\n",
      "[[98 20]\n",
      " [10 51]]\n",
      "정확도:0.8324,\n",
      "정밀도:0.7183,\n",
      "재현율:0.8361,\n",
      "f1:0.7727,\n",
      "AUC:0.8333\n",
      "------------------------\n",
      "임계값: 0.45\n",
      "오차행렬\n",
      "[[103  15]\n",
      " [ 12  49]]\n",
      "정확도:0.8492,\n",
      "정밀도:0.7656,\n",
      "재현율:0.8033,\n",
      "f1:0.7840,\n",
      "AUC:0.8381\n",
      "------------------------\n",
      "임계값: 0.5\n",
      "오차행렬\n",
      "[[104  14]\n",
      " [ 13  48]]\n",
      "정확도:0.8492,\n",
      "정밀도:0.7742,\n",
      "재현율:0.7869,\n",
      "f1:0.7805,\n",
      "AUC:0.8341\n",
      "------------------------\n",
      "임계값: 0.55\n",
      "오차행렬\n",
      "[[109   9]\n",
      " [ 15  46]]\n",
      "정확도:0.8659,\n",
      "정밀도:0.8364,\n",
      "재현율:0.7541,\n",
      "f1:0.7931,\n",
      "AUC:0.8389\n",
      "------------------------\n",
      "임계값: 0.6\n",
      "오차행렬\n",
      "[[112   6]\n",
      " [ 16  45]]\n",
      "정확도:0.8771,\n",
      "정밀도:0.8824,\n",
      "재현율:0.7377,\n",
      "f1:0.8036,\n",
      "AUC:0.8434\n",
      "------------------------\n"
     ]
    }
   ],
   "source": [
    "thresholds = [0.4,0.45,0.5,0.55,0.6]\n",
    "pred_proba = lr_clf.predict_proba(x_test)[:,1].reshape(-1,1) # reshape안해주면에러뜸\n",
    "get_eval_by_threshold(y_test,pred_proba,thresholds)"
   ]
  },
  {
   "cell_type": "code",
   "execution_count": 30,
   "id": "dd770d5c-e57d-440f-a4b5-1ced7f8b526c",
   "metadata": {},
   "outputs": [],
   "source": [
    "from sklearn.metrics import roc_curve"
   ]
  },
  {
   "cell_type": "code",
   "execution_count": 31,
   "id": "c914fb27-f883-4fac-ac18-338e43a0ccf9",
   "metadata": {
    "collapsed": true,
    "jupyter": {
     "outputs_hidden": true
    },
    "tags": []
   },
   "outputs": [
    {
     "data": {
      "text/plain": [
       "(array([0.        , 0.        , 0.        , 0.00847458, 0.00847458,\n",
       "        0.01694915, 0.01694915, 0.02542373, 0.02542373, 0.03389831,\n",
       "        0.03389831, 0.03389831, 0.04237288, 0.04237288, 0.05084746,\n",
       "        0.05084746, 0.07627119, 0.07627119, 0.08474576, 0.08474576,\n",
       "        0.12711864, 0.12711864, 0.13559322, 0.13559322, 0.16101695,\n",
       "        0.16101695, 0.16949153, 0.16949153, 0.18644068, 0.18644068,\n",
       "        0.20338983, 0.20338983, 0.23728814, 0.23728814, 0.30508475,\n",
       "        0.33050847, 0.46610169, 0.48305085, 0.57627119, 0.57627119,\n",
       "        0.58474576, 0.58474576, 0.61016949, 0.61864407, 0.63559322,\n",
       "        0.63559322, 0.68644068, 0.70338983, 0.75423729, 0.78813559,\n",
       "        0.79661017, 0.79661017, 0.81355932, 0.81355932, 1.        ]),\n",
       " array([0.        , 0.03278689, 0.2295082 , 0.2295082 , 0.47540984,\n",
       "        0.47540984, 0.63934426, 0.63934426, 0.6557377 , 0.6557377 ,\n",
       "        0.68852459, 0.72131148, 0.72131148, 0.73770492, 0.73770492,\n",
       "        0.75409836, 0.75409836, 0.7704918 , 0.7704918 , 0.78688525,\n",
       "        0.78688525, 0.80327869, 0.80327869, 0.81967213, 0.81967213,\n",
       "        0.83606557, 0.83606557, 0.85245902, 0.85245902, 0.86885246,\n",
       "        0.86885246, 0.8852459 , 0.8852459 , 0.90163934, 0.90163934,\n",
       "        0.90163934, 0.90163934, 0.90163934, 0.90163934, 0.91803279,\n",
       "        0.91803279, 0.93442623, 0.93442623, 0.95081967, 0.95081967,\n",
       "        0.96721311, 0.96721311, 0.96721311, 0.96721311, 0.96721311,\n",
       "        0.96721311, 0.98360656, 0.98360656, 1.        , 1.        ]),\n",
       " array([1.96507785, 0.96507785, 0.91803984, 0.90893981, 0.77771216,\n",
       "        0.75177387, 0.653944  , 0.65122976, 0.64572871, 0.63648626,\n",
       "        0.6308406 , 0.63048359, 0.6304673 , 0.62678115, 0.61091012,\n",
       "        0.59406032, 0.56318351, 0.54528179, 0.5447148 , 0.53794487,\n",
       "        0.48714895, 0.45375461, 0.44930224, 0.44422098, 0.42882577,\n",
       "        0.4031981 , 0.40136166, 0.39940319, 0.38009515, 0.35928397,\n",
       "        0.35098111, 0.34794161, 0.30936364, 0.30923588, 0.24015654,\n",
       "        0.2345286 , 0.14821989, 0.14821958, 0.12881476, 0.12834501,\n",
       "        0.12688423, 0.12547412, 0.12283388, 0.12282894, 0.12277334,\n",
       "        0.12129213, 0.11200283, 0.1119683 , 0.11159759, 0.11155169,\n",
       "        0.10886442, 0.10790077, 0.10389494, 0.10389269, 0.01159799]))"
      ]
     },
     "execution_count": 31,
     "metadata": {},
     "output_type": "execute_result"
    }
   ],
   "source": [
    "roc_curve(y_test,pred_proba)"
   ]
  },
  {
   "cell_type": "code",
   "execution_count": 32,
   "id": "a4994fe7-0d15-4a79-99a8-92020912636e",
   "metadata": {
    "tags": []
   },
   "outputs": [
    {
     "data": {
      "image/png": "[encoded data removed]",
      "text/plain": [
       "<Figure size 640x480 with 1 Axes>"
      ]
     },
     "metadata": {},
     "output_type": "display_data"
    }
   ],
   "source": [
    "def roc_curve_plot(y_test,pred_proba):\n",
    "    fprs,tprs,thresholds = roc_curve(y_test,pred_proba)\n",
    "    plt.plot(fprs,tprs,label='ROC')\n",
    "    plt.plot([0,1],[0,1],'k--',label='random')\n",
    "    start,end = plt.xlim()\n",
    "    plt.xticks(np.round( np.arange(start,end,0.1), 2))\n",
    "    plt.xlim(0,1)\n",
    "    plt.ylim(0,1)\n",
    "    plt.legend()\n",
    "    plt.show()\n",
    "    \n",
    "roc_curve_plot(y_test,pred_proba)"
   ]
  },
  {
   "cell_type": "code",
   "execution_count": 80,
   "id": "6d189125-eda1-4f28-895d-d82d9c29ecdc",
   "metadata": {},
   "outputs": [],
   "source": [
    "def get_clf_eval(y_test,pred=None,pred_proba=None):\n",
    "    from sklearn.metrics import accuracy_score, confusion_matrix, precision_score,recall_score,f1_score,roc_auc_score\n",
    "    confusion = confusion_matrix(y_test,pred)\n",
    "    accuracy = accuracy_score(y_test,pred)\n",
    "    precision = precision_score(y_test,pred)\n",
    "    recall = recall_score(y_test,pred)\n",
    "    f1 = f1_score(y_test,pred)\n",
    "    roc_auc = roc_auc_score(y_test,pred_proba)\n",
    "    print('오차행렬')\n",
    "    print(confusion)\n",
    "    print(f'''정확도:{accuracy:.4f},\n",
    "정밀도:{precision:.4f},\n",
    "재현율:{recall:.4f},\n",
    "f1:{f1:.4f},\n",
    "AUC:{roc_auc:.4f}\n",
    "------------------------''')\n",
    "    \n",
    "def get_eval_by_threshold(y_test,pred_proba,thresholds):\n",
    "    from sklearn.preprocessing import Binarizer\n",
    "    for threshold in thresholds:\n",
    "        pred = Binarizer(threshold=threshold).fit_transform(pred_proba)\n",
    "        print('임계값:',threshold)\n",
    "        get_clf_eval(y_test,pred,pred_proba)"
   ]
  },
  {
   "cell_type": "code",
   "execution_count": 81,
   "id": "46a73e3f-aefb-4607-9645-a30d6a08ff89",
   "metadata": {},
   "outputs": [],
   "source": [
    "def get_eval_by_threshold(y_test, pred_proba, thresholds):\n",
    "    from sklearn.preprocessing import Binarizer\n",
    "    from sklearn.metrics import roc_auc_score\n",
    "\n",
    "    for threshold in thresholds:\n",
    "        binarizer = Binarizer(threshold=threshold)\n",
    "        pred = binarizer.fit_transform(pred_proba)\n",
    "        roc_auc = roc_auc_score(y_test, pred_proba)\n",
    "        \n",
    "        print(f'임계값: {threshold:.2f}, AUC: {roc_auc:.4f}')\n",
    "\n",
    "# pred_proba는 pred의 1열의 데이터들만사용하기때문에 auc값이 동일하게나옴옴"
   ]
  },
  {
   "cell_type": "code",
   "execution_count": 83,
   "id": "2641f0ae-1809-4456-9a49-346d7b1c3a79",
   "metadata": {},
   "outputs": [
    {
     "name": "stdout",
     "output_type": "stream",
     "text": [
      "임계값: 0.40, AUC: 0.9024\n",
      "임계값: 0.45, AUC: 0.9024\n",
      "임계값: 0.50, AUC: 0.9024\n",
      "임계값: 0.55, AUC: 0.9024\n",
      "임계값: 0.60, AUC: 0.9024\n"
     ]
    }
   ],
   "source": [
    "thresholds = [0.4,0.45,0.5,0.55,0.6]\n",
    "pred_proba = lr_clf.predict_proba(x_test)[:,1].reshape(-1,1) # reshape안해주면에러뜸\n",
    "get_eval_by_threshold(y_test,pred_proba,thresholds)"
   ]
  },
  {
   "cell_type": "code",
   "execution_count": 84,
   "id": "590208ee-2fad-449f-94fb-73c676d9bf44",
   "metadata": {},
   "outputs": [
    {
     "data": {
      "text/plain": [
       "array([1, 0, 0, 0, 0, 0, 0, 1, 0, 1, 0, 0, 0, 0, 1, 0, 0, 0, 0, 1, 0, 0,\n",
       "       0, 0, 0, 0, 0, 0, 0, 0, 1, 1, 0, 1, 0, 0, 0, 1, 0, 0, 0, 0, 1, 1,\n",
       "       1, 1, 1, 0, 1, 0, 1, 0, 0, 1, 0, 0, 0, 0, 0, 0, 0, 0, 1, 1, 0, 0,\n",
       "       1, 1, 1, 0, 0, 0, 0, 1, 0, 0, 0, 0, 1, 0, 1, 1, 1, 0, 1, 1, 0, 0,\n",
       "       1, 0, 0, 0, 0, 0, 1, 0, 1, 0, 1, 1, 1, 0, 1, 0, 1, 0, 0, 0, 0, 0,\n",
       "       0, 0, 0, 1, 0, 0, 0, 0, 1, 0, 0, 0, 0, 0, 0, 0, 0, 0, 1, 0, 1, 0,\n",
       "       1, 0, 1, 0, 1, 0, 0, 1, 1, 0, 0, 0, 0, 1, 0, 0, 1, 0, 0, 1, 1, 0,\n",
       "       1, 1, 0, 0, 1, 1, 0, 1, 0, 1, 0, 1, 1, 0, 0, 1, 0, 1, 0, 0, 0, 0,\n",
       "       0, 1, 1], dtype=int64)"
      ]
     },
     "execution_count": 84,
     "metadata": {},
     "output_type": "execute_result"
    }
   ],
   "source": [
    "pred"
   ]
  },
  {
   "cell_type": "code",
   "execution_count": 79,
   "id": "41baf984-d8f4-47a5-8d33-f6bc4ef634c8",
   "metadata": {},
   "outputs": [
    {
     "data": {
      "text/plain": [
       "array([[0.53794487],\n",
       "       [0.12129213],\n",
       "       [0.1228279 ],\n",
       "       [0.11743428],\n",
       "       [0.14467901],\n",
       "       [0.11779769],\n",
       "       [0.11155169],\n",
       "       [0.79127744],\n",
       "       [0.21710549],\n",
       "       [0.6308406 ],\n",
       "       [0.10023   ],\n",
       "       [0.12492467],\n",
       "       [0.12283388],\n",
       "       [0.11159759],\n",
       "       [0.56318351],\n",
       "       [0.14098203],\n",
       "       [0.09624275],\n",
       "       [0.26661292],\n",
       "       [0.27516289],\n",
       "       [0.82848231],\n",
       "       [0.24643578],\n",
       "       [0.38096464],\n",
       "       [0.14534303],\n",
       "       [0.18531745],\n",
       "       [0.1119683 ],\n",
       "       [0.2345286 ],\n",
       "       [0.14037267],\n",
       "       [0.07418616],\n",
       "       [0.28043951],\n",
       "       [0.30441872],\n",
       "       [0.9472107 ],\n",
       "       [0.817234  ],\n",
       "       [0.12688423],\n",
       "       [0.82625054],\n",
       "       [0.39940319],\n",
       "       [0.2345286 ],\n",
       "       [0.07239036],\n",
       "       [0.61091012],\n",
       "       [0.05289147],\n",
       "       [0.10389269],\n",
       "       [0.35098111],\n",
       "       [0.08339846],\n",
       "       [0.8217043 ],\n",
       "       [0.70777205],\n",
       "       [0.6304673 ],\n",
       "       [0.63048359],\n",
       "       [0.91889512],\n",
       "       [0.35928397],\n",
       "       [0.94886658],\n",
       "       [0.11200283],\n",
       "       [0.59250135],\n",
       "       [0.11159759],\n",
       "       [0.13275754],\n",
       "       [0.72538663],\n",
       "       [0.30936364],\n",
       "       [0.19710502],\n",
       "       [0.22631122],\n",
       "       [0.12282894],\n",
       "       [0.15416232],\n",
       "       [0.43250532],\n",
       "       [0.28014758],\n",
       "       [0.10070325],\n",
       "       [0.54528179],\n",
       "       [0.51436948],\n",
       "       [0.44422098],\n",
       "       [0.09457784],\n",
       "       [0.66672732],\n",
       "       [0.59406032],\n",
       "       [0.95181982],\n",
       "       [0.14821989],\n",
       "       [0.12881476],\n",
       "       [0.16840092],\n",
       "       [0.10389494],\n",
       "       [0.94798868],\n",
       "       [0.19866825],\n",
       "       [0.11159759],\n",
       "       [0.34794161],\n",
       "       [0.18369618],\n",
       "       [0.83562986],\n",
       "       [0.12282894],\n",
       "       [0.79477532],\n",
       "       [0.64572871],\n",
       "       [0.93112576],\n",
       "       [0.13312822],\n",
       "       [0.94891726],\n",
       "       [0.95030652],\n",
       "       [0.15356542],\n",
       "       [0.12547412],\n",
       "       [0.8745842 ],\n",
       "       [0.11159759],\n",
       "       [0.11159759],\n",
       "       [0.2345286 ],\n",
       "       [0.23240176],\n",
       "       [0.11159759],\n",
       "       [0.63048359],\n",
       "       [0.0757041 ],\n",
       "       [0.92885196],\n",
       "       [0.10069337],\n",
       "       [0.50514375],\n",
       "       [0.96507785],\n",
       "       [0.50171643],\n",
       "       [0.09442661],\n",
       "       [0.9478936 ],\n",
       "       [0.09752069],\n",
       "       [0.52998922],\n",
       "       [0.12834501],\n",
       "       [0.14102906],\n",
       "       [0.14821958],\n",
       "       [0.44930224],\n",
       "       [0.10790077],\n",
       "       [0.11707773],\n",
       "       [0.10886442],\n",
       "       [0.4031981 ],\n",
       "       [0.653944  ],\n",
       "       [0.1119683 ],\n",
       "       [0.07096221],\n",
       "       [0.12440245],\n",
       "       [0.19843797],\n",
       "       [0.92597822],\n",
       "       [0.06865303],\n",
       "       [0.11158875],\n",
       "       [0.13078947],\n",
       "       [0.06367126],\n",
       "       [0.32202319],\n",
       "       [0.01159799],\n",
       "       [0.11158875],\n",
       "       [0.11621525],\n",
       "       [0.31665918],\n",
       "       [0.67774064],\n",
       "       [0.32158711],\n",
       "       [0.96507785],\n",
       "       [0.45375461],\n",
       "       [0.73534347],\n",
       "       [0.44336263],\n",
       "       [0.56973957],\n",
       "       [0.35129881],\n",
       "       [0.74853876],\n",
       "       [0.18610537],\n",
       "       [0.10392009],\n",
       "       [0.80348163],\n",
       "       [0.90893981],\n",
       "       [0.14821958],\n",
       "       [0.11803454],\n",
       "       [0.10121427],\n",
       "       [0.09161315],\n",
       "       [0.66809724],\n",
       "       [0.07565905],\n",
       "       [0.23389321],\n",
       "       [0.91803984],\n",
       "       [0.16816639],\n",
       "       [0.42882577],\n",
       "       [0.63155536],\n",
       "       [0.63648626],\n",
       "       [0.12277334],\n",
       "       [0.77771216],\n",
       "       [0.88076638],\n",
       "       [0.48714895],\n",
       "       [0.13292091],\n",
       "       [0.75177387],\n",
       "       [0.69044388],\n",
       "       [0.14973587],\n",
       "       [0.79310919],\n",
       "       [0.0912527 ],\n",
       "       [0.66665979],\n",
       "       [0.38009515],\n",
       "       [0.65122976],\n",
       "       [0.8842579 ],\n",
       "       [0.30923588],\n",
       "       [0.09163242],\n",
       "       [0.89297914],\n",
       "       [0.11155169],\n",
       "       [0.85417291],\n",
       "       [0.25078385],\n",
       "       [0.24015654],\n",
       "       [0.40136166],\n",
       "       [0.06230123],\n",
       "       [0.14103607],\n",
       "       [0.5447148 ],\n",
       "       [0.62678115]])"
      ]
     },
     "execution_count": 79,
     "metadata": {},
     "output_type": "execute_result"
    }
   ],
   "source": [
    "pred_proba"
   ]
  },
  {
   "cell_type": "code",
   "execution_count": null,
   "id": "00862dd7-88bc-44a2-9a55-2572d9a7e555",
   "metadata": {},
   "outputs": [],
   "source": []
  }
 ],
 "metadata": {
  "kernelspec": {
   "display_name": "Python 3 (ipykernel)",
   "language": "python",
   "name": "python3"
  },
  "language_info": {
   "codemirror_mode": {
    "name": "ipython",
    "version": 3
   },
   "file_extension": ".py",
   "mimetype": "text/x-python",
   "name": "python",
   "nbconvert_exporter": "python",
   "pygments_lexer": "ipython3",
   "version": "3.10.9"
  }
 },
 "nbformat": 4,
 "nbformat_minor": 5
}
