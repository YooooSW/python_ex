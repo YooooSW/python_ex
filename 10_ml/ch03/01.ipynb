{
 "cells": [
  {
   "cell_type": "code",
   "execution_count": 1,
   "id": "4c7273ae-af67-4a97-844e-693b78753887",
   "metadata": {},
   "outputs": [],
   "source": [
    "from sklearn.base import BaseEstimator"
   ]
  },
  {
   "cell_type": "code",
   "execution_count": 2,
   "id": "44a54fad-ab1e-4a30-987a-63569dddab13",
   "metadata": {},
   "outputs": [],
   "source": [
    "class MyDummyClassifier(BaseEstimator):\n",
    "    def fit(self,x,y=None):\n",
    "        pass\n",
    "\n",
    "    def predict(self,x):\n",
    "        pred = np.zeros((x.shape[0],1))\n",
    "        for i in range (x.shape[0]):\n",
    "            # print(pred)\n",
    "            if x['Sex'].iloc[i] == 1:\n",
    "                pred[i] = 0\n",
    "            else:\n",
    "                pred[i] = 1\n",
    "                \n",
    "        return pred"
   ]
  },
  {
   "cell_type": "code",
   "execution_count": 12,
   "id": "ea33e9df-c6f4-4436-9f39-37204a68d7ee",
   "metadata": {},
   "outputs": [],
   "source": [
    "import pandas as pd\n",
    "from sklearn.model_selection import train_test_split\n",
    "from sklearn.metrics import accuracy_score"
   ]
  },
  {
   "cell_type": "code",
   "execution_count": 4,
   "id": "24066764-43d4-4f82-92f4-43303fdf3559",
   "metadata": {},
   "outputs": [],
   "source": [
    "def fillna(df):\n",
    "    df['Age'].fillna(df['Age'].mean(), inplace=True)\n",
    "    df['Cabin'].fillna('N', inplace=True)\n",
    "    df['Embarked'].fillna('N', inplace=True)\n",
    "    df['Fare'].fillna(0, inplace=True)\n",
    "    return df\n",
    "\n",
    "def drop_features(df):\n",
    "    df.drop(columns=['PassengerId','Name','Ticket'],\n",
    "            inplace=True)\n",
    "    return df\n",
    "\n",
    "def format_features(df):\n",
    "    from sklearn.preprocessing import LabelEncoder\n",
    "    df['Cabin'] = df['Cabin'].str[:1]\n",
    "    features = ['Cabin','Sex','Embarked']\n",
    "    for feature in features:\n",
    "        le = LabelEncoder()\n",
    "        df[feature] = le.fit_transform(df[feature])\n",
    "    return df\n",
    "\n",
    "def transform_features(df):\n",
    "    df = fillna(df)\n",
    "    df = drop_features(df)\n",
    "    df = format_features(df)\n",
    "    return df"
   ]
  },
  {
   "cell_type": "code",
   "execution_count": 8,
   "id": "e579ea50-88ee-478f-97ee-a281d334873b",
   "metadata": {},
   "outputs": [],
   "source": [
    "df = pd.read_csv('train.csv')\n",
    "y = df['Survived']\n",
    "x = df.drop(columns='Survived')\n",
    "x = transform_features(x)\n",
    "\n",
    "x_train, x_test, y_train, y_test = train_test_split(x,\n",
    "                                                    y,\n",
    "                                                    test_size=0.2,\n",
    "                                                    random_state=11)"
   ]
  },
  {
   "cell_type": "code",
   "execution_count": 11,
   "id": "0da4e8f0-a5cc-42f9-be93-ebc85e4afee9",
   "metadata": {},
   "outputs": [
    {
     "name": "stdout",
     "output_type": "stream",
     "text": [
      "Dummy Classifier의 정확도는: 0.8324\n"
     ]
    }
   ],
   "source": [
    "myclf = MyDummyClassifier()\n",
    "myclf.fit(x_train,y_train)\n",
    "\n",
    "pred = myclf.predict(x_test)\n",
    "print('Dummy Classifier의 정확도는: {0:.4f}'.format(accuracy_score(y_test, pred)))"
   ]
  },
  {
   "cell_type": "code",
   "execution_count": 13,
   "id": "66efb952-1a18-4ca8-9d58-6bf9dc653b27",
   "metadata": {},
   "outputs": [],
   "source": [
    "from sklearn.metrics import confusion_matrix"
   ]
  },
  {
   "cell_type": "code",
   "execution_count": 15,
   "id": "6a44c7c5-9e1a-404f-a5e9-bdf20ec2c9b3",
   "metadata": {},
   "outputs": [
    {
     "data": {
      "text/plain": [
       "array([[103,  15],\n",
       "       [ 15,  46]], dtype=int64)"
      ]
     },
     "execution_count": 15,
     "metadata": {},
     "output_type": "execute_result"
    }
   ],
   "source": [
    "confusion_matrix(y_test, pred)"
   ]
  },
  {
   "cell_type": "code",
   "execution_count": 24,
   "id": "5ade7904-5154-4481-b236-ee47ca29c70f",
   "metadata": {},
   "outputs": [],
   "source": [
    "def get_clf_eval(y_test,pred):\n",
    "    from sklearn.metrics import accuracy_score, confusion_matrix, precision_score,recall_score\n",
    "    confusion = confusion_matrix(y_test,pred)\n",
    "    accuracy = accuracy_score(y_test,pred)\n",
    "    precision = precision_score(y_test,pred)\n",
    "    recall = recall_score(y_test,pred)\n",
    "    print('오차행렬')\n",
    "    print(confusion)\n",
    "    print(f'정확도:{accuracy:.4f}, 정밀도:{precision:.4f}, 재현율:{recall:.4f}')"
   ]
  },
  {
   "cell_type": "code",
   "execution_count": 25,
   "id": "5745a266-a413-4e14-b561-58b049c2a45b",
   "metadata": {},
   "outputs": [
    {
     "name": "stdout",
     "output_type": "stream",
     "text": [
      "오차행렬\n",
      "[[104  14]\n",
      " [ 13  48]]\n",
      "정확도:0.8492, 정밀도:0.7742, 재현율:0.7869\n"
     ]
    }
   ],
   "source": [
    "get_clf_eval(y_test,pred)"
   ]
  },
  {
   "cell_type": "code",
   "execution_count": 26,
   "id": "2e409f9d-1305-471d-b023-8ed1be30f60d",
   "metadata": {},
   "outputs": [],
   "source": [
    "from sklearn.linear_model import LogisticRegression"
   ]
  },
  {
   "cell_type": "code",
   "execution_count": 27,
   "id": "9e61925b-6afe-4959-b754-439e6a6d7114",
   "metadata": {},
   "outputs": [
    {
     "name": "stdout",
     "output_type": "stream",
     "text": [
      "오차행렬\n",
      "[[104  14]\n",
      " [ 13  48]]\n",
      "정확도:0.8492, 정밀도:0.7742, 재현율:0.7869\n"
     ]
    },
    {
     "name": "stderr",
     "output_type": "stream",
     "text": [
      "C:\\Users\\admin\\AppData\\Local\\anaconda3\\lib\\site-packages\\sklearn\\linear_model\\_logistic.py:458: ConvergenceWarning: lbfgs failed to converge (status=1):\n",
      "STOP: TOTAL NO. of ITERATIONS REACHED LIMIT.\n",
      "\n",
      "Increase the number of iterations (max_iter) or scale the data as shown in:\n",
      "    https://scikit-learn.org/stable/modules/preprocessing.html\n",
      "Please also refer to the documentation for alternative solver options:\n",
      "    https://scikit-learn.org/stable/modules/linear_model.html#logistic-regression\n",
      "  n_iter_i = _check_optimize_result(\n"
     ]
    }
   ],
   "source": [
    "lr_clf = LogisticRegression()\n",
    "lr_clf.fit(x_train, y_train)\n",
    "pred = lr_clf.predict(x_test)\n",
    "get_clf_eval(y_test,pred)"
   ]
  },
  {
   "cell_type": "code",
   "execution_count": 29,
   "id": "a8280855-b6ef-47fa-b6e5-81bf0cb88c06",
   "metadata": {
    "collapsed": true,
    "jupyter": {
     "outputs_hidden": true
    },
    "tags": []
   },
   "outputs": [
    {
     "data": {
      "text/plain": [
       "array([[0.46205513, 0.53794487, 1.        ],\n",
       "       [0.87870787, 0.12129213, 0.        ],\n",
       "       [0.8771721 , 0.1228279 , 0.        ],\n",
       "       [0.88256572, 0.11743428, 0.        ],\n",
       "       [0.85532099, 0.14467901, 0.        ],\n",
       "       [0.88220231, 0.11779769, 0.        ],\n",
       "       [0.88844831, 0.11155169, 0.        ],\n",
       "       [0.20872256, 0.79127744, 1.        ],\n",
       "       [0.78289451, 0.21710549, 0.        ],\n",
       "       [0.3691594 , 0.6308406 , 1.        ],\n",
       "       [0.89977   , 0.10023   , 0.        ],\n",
       "       [0.87507533, 0.12492467, 0.        ],\n",
       "       [0.87716612, 0.12283388, 0.        ],\n",
       "       [0.88840241, 0.11159759, 0.        ],\n",
       "       [0.43681649, 0.56318351, 1.        ],\n",
       "       [0.85901797, 0.14098203, 0.        ],\n",
       "       [0.90375725, 0.09624275, 0.        ],\n",
       "       [0.73338708, 0.26661292, 0.        ],\n",
       "       [0.72483711, 0.27516289, 0.        ],\n",
       "       [0.17151769, 0.82848231, 1.        ],\n",
       "       [0.75356422, 0.24643578, 0.        ],\n",
       "       [0.61903536, 0.38096464, 0.        ],\n",
       "       [0.85465697, 0.14534303, 0.        ],\n",
       "       [0.81468255, 0.18531745, 0.        ],\n",
       "       [0.8880317 , 0.1119683 , 0.        ],\n",
       "       [0.7654714 , 0.2345286 , 0.        ],\n",
       "       [0.85962733, 0.14037267, 0.        ],\n",
       "       [0.92581384, 0.07418616, 0.        ],\n",
       "       [0.71956049, 0.28043951, 0.        ],\n",
       "       [0.69558128, 0.30441872, 0.        ],\n",
       "       [0.0527893 , 0.9472107 , 1.        ],\n",
       "       [0.182766  , 0.817234  , 1.        ],\n",
       "       [0.87311577, 0.12688423, 0.        ],\n",
       "       [0.17374946, 0.82625054, 1.        ],\n",
       "       [0.60059681, 0.39940319, 0.        ],\n",
       "       [0.7654714 , 0.2345286 , 0.        ],\n",
       "       [0.92760964, 0.07239036, 0.        ],\n",
       "       [0.38908988, 0.61091012, 1.        ],\n",
       "       [0.94710853, 0.05289147, 0.        ],\n",
       "       [0.89610731, 0.10389269, 0.        ],\n",
       "       [0.64901889, 0.35098111, 0.        ],\n",
       "       [0.91660154, 0.08339846, 0.        ],\n",
       "       [0.1782957 , 0.8217043 , 1.        ],\n",
       "       [0.29222795, 0.70777205, 1.        ],\n",
       "       [0.3695327 , 0.6304673 , 1.        ],\n",
       "       [0.36951641, 0.63048359, 1.        ],\n",
       "       [0.08110488, 0.91889512, 1.        ],\n",
       "       [0.64071603, 0.35928397, 0.        ],\n",
       "       [0.05113342, 0.94886658, 1.        ],\n",
       "       [0.88799717, 0.11200283, 0.        ],\n",
       "       [0.40749865, 0.59250135, 1.        ],\n",
       "       [0.88840241, 0.11159759, 0.        ],\n",
       "       [0.86724246, 0.13275754, 0.        ],\n",
       "       [0.27461337, 0.72538663, 1.        ],\n",
       "       [0.69063636, 0.30936364, 0.        ],\n",
       "       [0.80289498, 0.19710502, 0.        ],\n",
       "       [0.77368878, 0.22631122, 0.        ],\n",
       "       [0.87717106, 0.12282894, 0.        ],\n",
       "       [0.84583768, 0.15416232, 0.        ],\n",
       "       [0.56749468, 0.43250532, 0.        ],\n",
       "       [0.71985242, 0.28014758, 0.        ],\n",
       "       [0.89929675, 0.10070325, 0.        ],\n",
       "       [0.45471821, 0.54528179, 1.        ],\n",
       "       [0.48563052, 0.51436948, 1.        ],\n",
       "       [0.55577902, 0.44422098, 0.        ],\n",
       "       [0.90542216, 0.09457784, 0.        ],\n",
       "       [0.33327268, 0.66672732, 1.        ],\n",
       "       [0.40593968, 0.59406032, 1.        ],\n",
       "       [0.04818018, 0.95181982, 1.        ],\n",
       "       [0.85178011, 0.14821989, 0.        ],\n",
       "       [0.87118524, 0.12881476, 0.        ],\n",
       "       [0.83159908, 0.16840092, 0.        ],\n",
       "       [0.89610506, 0.10389494, 0.        ],\n",
       "       [0.05201132, 0.94798868, 1.        ],\n",
       "       [0.80133175, 0.19866825, 0.        ],\n",
       "       [0.88840241, 0.11159759, 0.        ],\n",
       "       [0.65205839, 0.34794161, 0.        ],\n",
       "       [0.81630382, 0.18369618, 0.        ],\n",
       "       [0.16437014, 0.83562986, 1.        ],\n",
       "       [0.87717106, 0.12282894, 0.        ],\n",
       "       [0.20522468, 0.79477532, 1.        ],\n",
       "       [0.35427129, 0.64572871, 1.        ],\n",
       "       [0.06887424, 0.93112576, 1.        ],\n",
       "       [0.86687178, 0.13312822, 0.        ],\n",
       "       [0.05108274, 0.94891726, 1.        ],\n",
       "       [0.04969348, 0.95030652, 1.        ],\n",
       "       [0.84643458, 0.15356542, 0.        ],\n",
       "       [0.87452588, 0.12547412, 0.        ],\n",
       "       [0.1254158 , 0.8745842 , 1.        ],\n",
       "       [0.88840241, 0.11159759, 0.        ],\n",
       "       [0.88840241, 0.11159759, 0.        ],\n",
       "       [0.7654714 , 0.2345286 , 0.        ],\n",
       "       [0.76759824, 0.23240176, 0.        ],\n",
       "       [0.88840241, 0.11159759, 0.        ],\n",
       "       [0.36951641, 0.63048359, 1.        ],\n",
       "       [0.9242959 , 0.0757041 , 0.        ],\n",
       "       [0.07114804, 0.92885196, 1.        ],\n",
       "       [0.89930663, 0.10069337, 0.        ],\n",
       "       [0.49485625, 0.50514375, 1.        ],\n",
       "       [0.03492215, 0.96507785, 1.        ],\n",
       "       [0.49828357, 0.50171643, 1.        ],\n",
       "       [0.90557339, 0.09442661, 0.        ],\n",
       "       [0.0521064 , 0.9478936 , 1.        ],\n",
       "       [0.90247931, 0.09752069, 0.        ],\n",
       "       [0.47001078, 0.52998922, 1.        ],\n",
       "       [0.87165499, 0.12834501, 0.        ],\n",
       "       [0.85897094, 0.14102906, 0.        ],\n",
       "       [0.85178042, 0.14821958, 0.        ],\n",
       "       [0.55069776, 0.44930224, 0.        ],\n",
       "       [0.89209923, 0.10790077, 0.        ],\n",
       "       [0.88292227, 0.11707773, 0.        ],\n",
       "       [0.89113558, 0.10886442, 0.        ],\n",
       "       [0.5968019 , 0.4031981 , 0.        ],\n",
       "       [0.346056  , 0.653944  , 1.        ],\n",
       "       [0.8880317 , 0.1119683 , 0.        ],\n",
       "       [0.92903779, 0.07096221, 0.        ],\n",
       "       [0.87559755, 0.12440245, 0.        ],\n",
       "       [0.80156203, 0.19843797, 0.        ],\n",
       "       [0.07402178, 0.92597822, 1.        ],\n",
       "       [0.93134697, 0.06865303, 0.        ],\n",
       "       [0.88841125, 0.11158875, 0.        ],\n",
       "       [0.86921053, 0.13078947, 0.        ],\n",
       "       [0.93632874, 0.06367126, 0.        ],\n",
       "       [0.67797681, 0.32202319, 0.        ],\n",
       "       [0.98840201, 0.01159799, 0.        ],\n",
       "       [0.88841125, 0.11158875, 0.        ],\n",
       "       [0.88378475, 0.11621525, 0.        ],\n",
       "       [0.68334082, 0.31665918, 0.        ],\n",
       "       [0.32225936, 0.67774064, 1.        ],\n",
       "       [0.67841289, 0.32158711, 0.        ],\n",
       "       [0.03492215, 0.96507785, 1.        ],\n",
       "       [0.54624539, 0.45375461, 0.        ],\n",
       "       [0.26465653, 0.73534347, 1.        ],\n",
       "       [0.55663737, 0.44336263, 0.        ],\n",
       "       [0.43026043, 0.56973957, 1.        ],\n",
       "       [0.64870119, 0.35129881, 0.        ],\n",
       "       [0.25146124, 0.74853876, 1.        ],\n",
       "       [0.81389463, 0.18610537, 0.        ],\n",
       "       [0.89607991, 0.10392009, 0.        ],\n",
       "       [0.19651837, 0.80348163, 1.        ],\n",
       "       [0.09106019, 0.90893981, 1.        ],\n",
       "       [0.85178042, 0.14821958, 0.        ],\n",
       "       [0.88196546, 0.11803454, 0.        ],\n",
       "       [0.89878573, 0.10121427, 0.        ],\n",
       "       [0.90838685, 0.09161315, 0.        ],\n",
       "       [0.33190276, 0.66809724, 1.        ],\n",
       "       [0.92434095, 0.07565905, 0.        ],\n",
       "       [0.76610679, 0.23389321, 0.        ],\n",
       "       [0.08196016, 0.91803984, 1.        ],\n",
       "       [0.83183361, 0.16816639, 0.        ],\n",
       "       [0.57117423, 0.42882577, 0.        ],\n",
       "       [0.36844464, 0.63155536, 1.        ],\n",
       "       [0.36351374, 0.63648626, 1.        ],\n",
       "       [0.87722666, 0.12277334, 0.        ],\n",
       "       [0.22228784, 0.77771216, 1.        ],\n",
       "       [0.11923362, 0.88076638, 1.        ],\n",
       "       [0.51285105, 0.48714895, 0.        ],\n",
       "       [0.86707909, 0.13292091, 0.        ],\n",
       "       [0.24822613, 0.75177387, 1.        ],\n",
       "       [0.30955612, 0.69044388, 1.        ],\n",
       "       [0.85026413, 0.14973587, 0.        ],\n",
       "       [0.20689081, 0.79310919, 1.        ],\n",
       "       [0.9087473 , 0.0912527 , 0.        ],\n",
       "       [0.33334021, 0.66665979, 1.        ],\n",
       "       [0.61990485, 0.38009515, 0.        ],\n",
       "       [0.34877024, 0.65122976, 1.        ],\n",
       "       [0.1157421 , 0.8842579 , 1.        ],\n",
       "       [0.69076412, 0.30923588, 0.        ],\n",
       "       [0.90836758, 0.09163242, 0.        ],\n",
       "       [0.10702086, 0.89297914, 1.        ],\n",
       "       [0.88844831, 0.11155169, 0.        ],\n",
       "       [0.14582709, 0.85417291, 1.        ],\n",
       "       [0.74921615, 0.25078385, 0.        ],\n",
       "       [0.75984346, 0.24015654, 0.        ],\n",
       "       [0.59863834, 0.40136166, 0.        ],\n",
       "       [0.93769877, 0.06230123, 0.        ],\n",
       "       [0.85896393, 0.14103607, 0.        ],\n",
       "       [0.4552852 , 0.5447148 , 1.        ],\n",
       "       [0.37321885, 0.62678115, 1.        ]])"
      ]
     },
     "execution_count": 29,
     "metadata": {},
     "output_type": "execute_result"
    }
   ],
   "source": [
    "pred_proba = lr_clf.predict_proba(x_test)\n",
    "np.concatenate([pred_proba,pred.reshape(-1,1)],axis=1)"
   ]
  },
  {
   "cell_type": "code",
   "execution_count": 30,
   "id": "782147d9-0631-4b03-8613-7ee581f959c4",
   "metadata": {},
   "outputs": [],
   "source": [
    "from sklearn.preprocessing import Binarizer"
   ]
  },
  {
   "cell_type": "code",
   "execution_count": 32,
   "id": "70f632be-f647-440b-b459-1959f2d7a42c",
   "metadata": {},
   "outputs": [
    {
     "data": {
      "text/plain": [
       "array([[0., 0., 1.],\n",
       "       [1., 0., 0.],\n",
       "       [0., 0., 1.]])"
      ]
     },
     "execution_count": 32,
     "metadata": {},
     "output_type": "execute_result"
    }
   ],
   "source": [
    "x = [[1,-1,2],\n",
    "     [2,0,0],\n",
    "     [0,1.1,1.2]]\n",
    "binarizer = Binarizer(threshold=1.1) # 1.1보다작으면0 1.1보다크면1\n",
    "binarizer.fit_transform(x)"
   ]
  },
  {
   "cell_type": "code",
   "execution_count": 39,
   "id": "3da836b2-dcc8-4515-85bb-08bf16320e8b",
   "metadata": {
    "tags": []
   },
   "outputs": [],
   "source": [
    "binarizer = Binarizer(threshold=0.6)\n",
    "pred_1 = binarizer.fit_transform(pred_proba[:,1].reshape(-1,1))"
   ]
  },
  {
   "cell_type": "code",
   "execution_count": 40,
   "id": "2db00797-133f-41ee-9da8-fbf19cb1caef",
   "metadata": {},
   "outputs": [
    {
     "name": "stdout",
     "output_type": "stream",
     "text": [
      "오차행렬\n",
      "[[112   6]\n",
      " [ 16  45]]\n",
      "정확도:0.8771, 정밀도:0.8824, 재현율:0.7377\n"
     ]
    }
   ],
   "source": [
    "get_clf_eval(y_test,pred_1)\n",
    "# 0.5일때\n",
    "# 오차행렬\n",
    "# [[104  14]\n",
    "#  [ 13  48]]\n",
    "# 정확도:0.8492, 정밀도:0.7742, 재현율:0.7869\n",
    "\n",
    "# 0.4일때 threshold=0.5에비해 정확도,정밀도떨어지고 재현율오름\n",
    "# 오차행렬\n",
    "# [[98 20]\n",
    "#  [10 51]]\n",
    "# 정확도:0.8324, 정밀도:0.7183, 재현율:0.8361\n",
    "\n",
    "# 0.6일때는 threshold=0.4에비해 정확도정밀도 오르고 재현율떨어짐"
   ]
  },
  {
   "cell_type": "code",
   "execution_count": null,
   "id": "6deb8358-47c2-42ed-af37-1f54faf197c3",
   "metadata": {},
   "outputs": [],
   "source": []
  }
 ],
 "metadata": {
  "kernelspec": {
   "display_name": "Python 3 (ipykernel)",
   "language": "python",
   "name": "python3"
  },
  "language_info": {
   "codemirror_mode": {
    "name": "ipython",
    "version": 3
   },
   "file_extension": ".py",
   "mimetype": "text/x-python",
   "name": "python",
   "nbconvert_exporter": "python",
   "pygments_lexer": "ipython3",
   "version": "3.10.9"
  }
 },
 "nbformat": 4,
 "nbformat_minor": 5
}
