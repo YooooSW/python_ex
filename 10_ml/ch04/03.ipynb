{
 "cells": [
  {
   "cell_type": "code",
   "execution_count": 2,
   "id": "aff242df-24a6-466f-b292-f8e51227a56f",
   "metadata": {},
   "outputs": [],
   "source": [
    "import pandas as pd\n",
    "from sklearn.ensemble import VotingClassifier\n",
    "from sklearn.linear_model import LogisticRegression\n",
    "from sklearn.neighbors import KNeighborsClassifier\n",
    "from sklearn.datasets import load_breast_cancer\n",
    "from sklearn.model_selection import train_test_split\n",
    "from sklearn.metrics import accuracy_score"
   ]
  },
  {
   "cell_type": "code",
   "execution_count": 3,
   "id": "ce3c52fe-3d0b-4e18-94f1-87b99a7aa2f6",
   "metadata": {},
   "outputs": [],
   "source": [
    "cancer = load_breast_cancer()"
   ]
  },
  {
   "cell_type": "code",
   "execution_count": 4,
   "id": "39d154e2-e06d-48db-b6be-9cbc13f09462",
   "metadata": {},
   "outputs": [
    {
     "data": {
      "text/html": [
       "<div>\n",
       "<style scoped>\n",
       "    .dataframe tbody tr th:only-of-type {\n",
       "        vertical-align: middle;\n",
       "    }\n",
       "\n",
       "    .dataframe tbody tr th {\n",
       "        vertical-align: top;\n",
       "    }\n",
       "\n",
       "    .dataframe thead th {\n",
       "        text-align: right;\n",
       "    }\n",
       "</style>\n",
       "<table border=\"1\" class=\"dataframe\">\n",
       "  <thead>\n",
       "    <tr style=\"text-align: right;\">\n",
       "      <th></th>\n",
       "      <th>mean radius</th>\n",
       "      <th>mean texture</th>\n",
       "      <th>mean perimeter</th>\n",
       "      <th>mean area</th>\n",
       "      <th>mean smoothness</th>\n",
       "      <th>mean compactness</th>\n",
       "      <th>mean concavity</th>\n",
       "      <th>mean concave points</th>\n",
       "      <th>mean symmetry</th>\n",
       "      <th>mean fractal dimension</th>\n",
       "      <th>...</th>\n",
       "      <th>worst radius</th>\n",
       "      <th>worst texture</th>\n",
       "      <th>worst perimeter</th>\n",
       "      <th>worst area</th>\n",
       "      <th>worst smoothness</th>\n",
       "      <th>worst compactness</th>\n",
       "      <th>worst concavity</th>\n",
       "      <th>worst concave points</th>\n",
       "      <th>worst symmetry</th>\n",
       "      <th>worst fractal dimension</th>\n",
       "    </tr>\n",
       "  </thead>\n",
       "  <tbody>\n",
       "    <tr>\n",
       "      <th>0</th>\n",
       "      <td>17.99</td>\n",
       "      <td>10.38</td>\n",
       "      <td>122.8</td>\n",
       "      <td>1001.0</td>\n",
       "      <td>0.11840</td>\n",
       "      <td>0.27760</td>\n",
       "      <td>0.3001</td>\n",
       "      <td>0.14710</td>\n",
       "      <td>0.2419</td>\n",
       "      <td>0.07871</td>\n",
       "      <td>...</td>\n",
       "      <td>25.38</td>\n",
       "      <td>17.33</td>\n",
       "      <td>184.6</td>\n",
       "      <td>2019.0</td>\n",
       "      <td>0.1622</td>\n",
       "      <td>0.6656</td>\n",
       "      <td>0.7119</td>\n",
       "      <td>0.2654</td>\n",
       "      <td>0.4601</td>\n",
       "      <td>0.11890</td>\n",
       "    </tr>\n",
       "    <tr>\n",
       "      <th>1</th>\n",
       "      <td>20.57</td>\n",
       "      <td>17.77</td>\n",
       "      <td>132.9</td>\n",
       "      <td>1326.0</td>\n",
       "      <td>0.08474</td>\n",
       "      <td>0.07864</td>\n",
       "      <td>0.0869</td>\n",
       "      <td>0.07017</td>\n",
       "      <td>0.1812</td>\n",
       "      <td>0.05667</td>\n",
       "      <td>...</td>\n",
       "      <td>24.99</td>\n",
       "      <td>23.41</td>\n",
       "      <td>158.8</td>\n",
       "      <td>1956.0</td>\n",
       "      <td>0.1238</td>\n",
       "      <td>0.1866</td>\n",
       "      <td>0.2416</td>\n",
       "      <td>0.1860</td>\n",
       "      <td>0.2750</td>\n",
       "      <td>0.08902</td>\n",
       "    </tr>\n",
       "  </tbody>\n",
       "</table>\n",
       "<p>2 rows × 30 columns</p>\n",
       "</div>"
      ],
      "text/plain": [
       "   mean radius  mean texture  mean perimeter  mean area  mean smoothness  \\\n",
       "0        17.99         10.38           122.8     1001.0          0.11840   \n",
       "1        20.57         17.77           132.9     1326.0          0.08474   \n",
       "\n",
       "   mean compactness  mean concavity  mean concave points  mean symmetry  \\\n",
       "0           0.27760          0.3001              0.14710         0.2419   \n",
       "1           0.07864          0.0869              0.07017         0.1812   \n",
       "\n",
       "   mean fractal dimension  ...  worst radius  worst texture  worst perimeter  \\\n",
       "0                 0.07871  ...         25.38          17.33            184.6   \n",
       "1                 0.05667  ...         24.99          23.41            158.8   \n",
       "\n",
       "   worst area  worst smoothness  worst compactness  worst concavity  \\\n",
       "0      2019.0            0.1622             0.6656           0.7119   \n",
       "1      1956.0            0.1238             0.1866           0.2416   \n",
       "\n",
       "   worst concave points  worst symmetry  worst fractal dimension  \n",
       "0                0.2654          0.4601                  0.11890  \n",
       "1                0.1860          0.2750                  0.08902  \n",
       "\n",
       "[2 rows x 30 columns]"
      ]
     },
     "execution_count": 4,
     "metadata": {},
     "output_type": "execute_result"
    }
   ],
   "source": [
    "pd.DataFrame(cancer.data,columns=cancer.feature_names).head(2)"
   ]
  },
  {
   "cell_type": "code",
   "execution_count": 5,
   "id": "4eebe51a-edb9-4678-80dd-fc2a301432dc",
   "metadata": {},
   "outputs": [
    {
     "data": {
      "text/plain": [
       "0.956140350877193"
      ]
     },
     "execution_count": 5,
     "metadata": {},
     "output_type": "execute_result"
    }
   ],
   "source": [
    "lr_clf = LogisticRegression(solver='liblinear')\n",
    "knn_clf = KNeighborsClassifier(n_neighbors=8)\n",
    "vo_clf = VotingClassifier([('LR',lr_clf),\n",
    "                           ('KNN',knn_clf)],\n",
    "                           voting='soft')\n",
    "x_train, x_test, y_train, y_test = train_test_split(cancer.data,\n",
    "                                                    cancer.target,\n",
    "                                                    test_size=0.2,\n",
    "                                                    random_state=156)\n",
    "vo_clf.fit(x_train,y_train)\n",
    "pred = vo_clf.predict(x_test)\n",
    "accuracy_score(y_test,pred)"
   ]
  },
  {
   "cell_type": "code",
   "execution_count": 6,
   "id": "6b81e8d2-8463-4747-b9c2-b3c865870c0d",
   "metadata": {},
   "outputs": [
    {
     "data": {
      "text/plain": [
       "(0.9473684210526315, 0.9385964912280702)"
      ]
     },
     "execution_count": 6,
     "metadata": {},
     "output_type": "execute_result"
    }
   ],
   "source": [
    "lr_clf.fit(x_train,y_train)\n",
    "pred_l = lr_clf.predict(x_test)\n",
    "\n",
    "knn_clf.fit(x_train,y_train)\n",
    "pred_k = knn_clf.predict(x_test)\n",
    "\n",
    "accuracy_score(y_test,pred_l), accuracy_score(y_test,pred_k)"
   ]
  },
  {
   "cell_type": "code",
   "execution_count": 7,
   "id": "1018e16b-7ed4-4c5e-b81a-0798ee80007c",
   "metadata": {},
   "outputs": [],
   "source": [
    "from sklearn.ensemble import RandomForestClassifier"
   ]
  },
  {
   "cell_type": "code",
   "execution_count": 8,
   "id": "ac23b1c3-e197-408f-b5d4-02060604f7bf",
   "metadata": {},
   "outputs": [],
   "source": [
    "def get_new_feature_name_df(old):\n",
    "    df = pd.DataFrame(data=old.groupby('column_name').cumcount(),\n",
    "                 columns=['dup_cnt'])\n",
    "    df = df.reset_index()\n",
    "    new_df = pd.merge(old.reset_index(),df,how='outer')\n",
    "    new_df['column_name'] = new_df[['column_name','dup_cnt']].apply(lambda x: x[0]+'_'+str(x[1]) \n",
    "                                            if x[1] > 0 \n",
    "                                            else x[0] ,axis=1)\n",
    "    new_df.drop(columns=['index'],inplace=True)\n",
    "    return new_df #new_df x[0]=(column_name) x[1]=(dup_cnt)\n",
    "\n",
    "def get_human_dataset():\n",
    "    feature_name_df = pd.read_csv('human_activity/features.txt', \n",
    "          sep='\\s+',\n",
    "          header=None,\n",
    "          names=['column_index','column_name'])\n",
    "    new_feature_name_df = get_new_feature_name_df(feature_name_df)\n",
    "    feature_name = new_feature_name_df.iloc[:,1].values.tolist()\n",
    "    x_train = pd.read_csv('human_activity/train/X_train.txt',sep='\\s+',names=feature_name)\n",
    "    x_test = pd.read_csv('human_activity/test/X_test.txt',sep='\\s+',names=feature_name)\n",
    "    y_train = pd.read_csv('human_activity/train/y_train.txt',sep='\\s+',names=['action'])\n",
    "    y_test = pd.read_csv('human_activity/test/y_test.txt',sep='\\s+',names=['action'])\n",
    "    return x_train,x_test,y_train,y_test"
   ]
  },
  {
   "cell_type": "code",
   "execution_count": 9,
   "id": "8fd5725f-2247-4f8c-aa98-311f60a65b07",
   "metadata": {},
   "outputs": [],
   "source": [
    "x_train,x_test,y_train,y_test = get_human_dataset()"
   ]
  },
  {
   "cell_type": "code",
   "execution_count": 10,
   "id": "21ff565c-330b-46b3-9281-5c902bda716e",
   "metadata": {},
   "outputs": [
    {
     "name": "stderr",
     "output_type": "stream",
     "text": [
      "C:\\Users\\admin\\AppData\\Local\\Temp\\ipykernel_1452\\1664790705.py:4: DataConversionWarning: A column-vector y was passed when a 1d array was expected. Please change the shape of y to (n_samples,), for example using ravel().\n",
      "  rf_clf.fit(x_train,y_train)\n"
     ]
    },
    {
     "data": {
      "text/plain": [
       "0.9284017645062775"
      ]
     },
     "execution_count": 10,
     "metadata": {},
     "output_type": "execute_result"
    }
   ],
   "source": [
    "# 0.8547675602307431\n",
    "# 0.9253478113335596\n",
    "rf_clf = RandomForestClassifier(random_state=0, n_estimators=500)\n",
    "rf_clf.fit(x_train,y_train)\n",
    "pred = rf_clf.predict(x_test)\n",
    "accuracy_score(y_test,pred)"
   ]
  },
  {
   "cell_type": "code",
   "execution_count": 11,
   "id": "3564184f-fed2-41a7-8e9d-e9d25162f0d8",
   "metadata": {},
   "outputs": [],
   "source": [
    "from sklearn.model_selection import GridSearchCV"
   ]
  },
  {
   "cell_type": "code",
   "execution_count": 12,
   "id": "dc17ac52-d00b-4443-8f2e-c00a34743543",
   "metadata": {},
   "outputs": [
    {
     "name": "stderr",
     "output_type": "stream",
     "text": [
      "C:\\Users\\admin\\AppData\\Local\\anaconda3\\lib\\site-packages\\sklearn\\model_selection\\_search.py:909: DataConversionWarning: A column-vector y was passed when a 1d array was expected. Please change the shape of y to (n_samples,), for example using ravel().\n",
      "  self.best_estimator_.fit(X, y, **fit_params)\n"
     ]
    },
    {
     "name": "stdout",
     "output_type": "stream",
     "text": [
      "{'max_depth': 10, 'min_samples_leaf': 8, 'min_samples_split': 8, 'n_estimators': 100}\n",
      "0.9179815016322089\n",
      "CPU times: total: 13.6 s\n",
      "Wall time: 37.3 s\n"
     ]
    }
   ],
   "source": [
    "%%time\n",
    "param = {\n",
    "    'n_estimators':[100],\n",
    "    'max_depth':[6,8,10,12],\n",
    "    'min_samples_split':[8,16,20],\n",
    "    'min_samples_leaf':[8,12,18],\n",
    "}\n",
    "rf_clf = RandomForestClassifier(random_state=0,n_jobs=-1)\n",
    "grid_cv = GridSearchCV(rf_clf,param_grid=param,cv=2,n_jobs=-1)\n",
    "grid_cv.fit(x_train,y_train)\n",
    "print(grid_cv.best_params_)\n",
    "print(grid_cv.best_score_)"
   ]
  },
  {
   "cell_type": "code",
   "execution_count": 13,
   "id": "3c585ed2-7496-4167-9613-b33ae8a742eb",
   "metadata": {},
   "outputs": [
    {
     "name": "stderr",
     "output_type": "stream",
     "text": [
      "C:\\Users\\admin\\AppData\\Local\\Temp\\ipykernel_1452\\2317208821.py:6: DataConversionWarning: A column-vector y was passed when a 1d array was expected. Please change the shape of y to (n_samples,), for example using ravel().\n",
      "  rf_clf.fit(x_train,y_train)\n"
     ]
    },
    {
     "data": {
      "text/plain": [
       "0.9195792331184255"
      ]
     },
     "execution_count": 13,
     "metadata": {},
     "output_type": "execute_result"
    }
   ],
   "source": [
    "rf_clf = RandomForestClassifier(random_state=0,\n",
    "                                n_estimators=100,\n",
    "                                max_depth=10,\n",
    "                                min_samples_leaf=8,\n",
    "                                min_samples_split=8)\n",
    "rf_clf.fit(x_train,y_train)\n",
    "pred = rf_clf.predict(x_test)\n",
    "accuracy_score(y_test,pred)"
   ]
  },
  {
   "cell_type": "code",
   "execution_count": 14,
   "id": "ce8729b6-83fb-4e8a-a5de-151b09ff5d5c",
   "metadata": {
    "collapsed": true,
    "jupyter": {
     "outputs_hidden": true
    },
    "tags": []
   },
   "outputs": [
    {
     "data": {
      "text/plain": [
       "array([6.81829742e-05, 2.08494342e-04, 8.94806631e-05, 6.27464173e-03,\n",
       "       1.56609891e-04, 1.58430547e-04, 3.62381491e-03, 2.99904093e-04,\n",
       "       1.88107333e-04, 1.21137343e-02, 9.02151479e-05, 1.35527484e-04,\n",
       "       4.04394593e-04, 1.27620939e-04, 1.83763855e-04, 3.23590641e-04,\n",
       "       3.00538873e-03, 4.35552381e-04, 2.90218686e-04, 1.56951898e-03,\n",
       "       2.15203892e-04, 1.62651304e-04, 1.17228437e-03, 8.24659962e-05,\n",
       "       3.39035531e-04, 1.30765816e-04, 7.92927225e-05, 2.00672807e-05,\n",
       "       1.33793856e-04, 2.49567426e-04, 6.31810274e-05, 3.80923841e-05,\n",
       "       1.37341896e-04, 4.69229198e-05, 6.29444912e-05, 5.25527763e-05,\n",
       "       8.42910839e-05, 5.26013328e-03, 8.24200614e-04, 2.71049206e-03,\n",
       "       2.57414060e-02, 3.04199233e-02, 9.19758794e-03, 2.84817306e-03,\n",
       "       1.68584106e-03, 1.95726135e-04, 6.66730938e-04, 9.81407633e-04,\n",
       "       1.29240587e-04, 2.39266808e-02, 2.34528119e-02, 1.13118817e-02,\n",
       "       2.82951882e-02, 2.33103365e-02, 9.26215166e-03, 4.64743478e-03,\n",
       "       2.72518456e-02, 1.69380140e-02, 9.48825097e-03, 2.89300476e-04,\n",
       "       2.69174280e-04, 3.52539550e-04, 2.34568773e-03, 8.63715010e-03,\n",
       "       5.53663555e-04, 5.41102057e-03, 5.35600021e-03, 5.90493322e-03,\n",
       "       3.27593647e-03, 9.37361939e-03, 9.38757334e-03, 7.97670297e-03,\n",
       "       4.65503133e-03, 5.48002824e-03, 1.42815139e-02, 5.93442635e-03,\n",
       "       4.80524592e-03, 3.06364077e-03, 1.14327874e-03, 2.62762280e-03,\n",
       "       2.85063833e-05, 2.12963182e-05, 6.74216247e-05, 2.99462566e-03,\n",
       "       2.77649352e-03, 2.58808499e-03, 4.71025056e-03, 4.79049398e-03,\n",
       "       4.90368991e-04, 2.80457909e-03, 2.28848878e-03, 5.53227943e-04,\n",
       "       3.48455111e-04, 1.95777594e-04, 1.27070761e-04, 4.46439229e-04,\n",
       "       5.74812840e-03, 2.49672155e-04, 2.65273859e-03, 6.73311034e-03,\n",
       "       2.35951775e-03, 2.23771875e-04, 1.36288184e-02, 2.25155265e-03,\n",
       "       2.42960481e-03, 1.26343912e-04, 7.70244075e-05, 1.23630882e-04,\n",
       "       8.36267208e-05, 7.00869344e-05, 8.55698533e-05, 3.92680541e-05,\n",
       "       1.08858467e-04, 7.03252821e-05, 7.13523402e-05, 5.37805845e-05,\n",
       "       1.11998924e-04, 5.79224166e-04, 2.32568029e-04, 3.42151912e-04,\n",
       "       4.22065802e-04, 1.55397013e-04, 4.61534181e-04, 2.60903397e-03,\n",
       "       3.47098132e-04, 6.53237430e-04, 3.36581608e-03, 5.38386330e-04,\n",
       "       4.93902353e-04, 3.17123583e-03, 8.63114873e-05, 3.21818869e-04,\n",
       "       6.88576145e-04, 1.98161970e-04, 1.95314821e-04, 6.68855620e-05,\n",
       "       1.28880410e-03, 4.55052961e-04, 9.85412188e-04, 3.01491305e-03,\n",
       "       5.32766339e-04, 9.42540821e-04, 9.88529030e-04, 3.70404295e-04,\n",
       "       3.68472381e-04, 1.56666990e-03, 3.87596652e-05, 1.02842207e-04,\n",
       "       1.72670305e-04, 1.91290932e-04, 1.83214085e-04, 5.47650486e-05,\n",
       "       1.11556006e-04, 7.24008608e-05, 2.73274534e-05, 5.85693739e-05,\n",
       "       1.36165679e-04, 5.11115745e-04, 8.74535341e-04, 2.15049434e-03,\n",
       "       3.35999581e-04, 1.68356127e-04, 3.78393540e-04, 1.35665935e-03,\n",
       "       2.78907279e-04, 2.44049889e-03, 2.03079282e-03, 3.39625141e-04,\n",
       "       1.48634026e-04, 9.10079582e-04, 2.59116074e-04, 2.42017589e-04,\n",
       "       1.05192213e-03, 1.68760911e-04, 2.08169771e-04, 4.22826484e-04,\n",
       "       1.43977052e-03, 4.04710388e-04, 2.49914419e-03, 2.10554589e-03,\n",
       "       2.25523917e-03, 6.81752739e-03, 6.71624158e-04, 1.95696622e-04,\n",
       "       1.48307752e-04, 1.08640967e-03, 1.58025153e-04, 3.71836528e-04,\n",
       "       8.71452802e-05, 3.65580066e-04, 8.40304431e-05, 3.79374794e-05,\n",
       "       1.18177754e-04, 6.05469383e-05, 8.72150945e-05, 1.15406680e-04,\n",
       "       1.66900336e-04, 7.51738133e-04, 5.14683503e-04, 4.98168832e-04,\n",
       "       9.43284607e-04, 7.20186661e-03, 6.69483027e-03, 1.63580507e-03,\n",
       "       2.09706561e-05, 2.66404497e-03, 1.81058446e-03, 1.00192812e-03,\n",
       "       1.04740444e-04, 6.90203862e-03, 1.57878415e-03, 5.49829382e-05,\n",
       "       1.68634418e-05, 1.00641771e-03, 8.58652005e-03, 8.44598762e-03,\n",
       "       8.17927275e-04, 6.03237686e-05, 2.63374022e-04, 2.16746800e-03,\n",
       "       8.72905656e-04, 1.80808888e-04, 6.23292795e-03, 4.99968651e-04,\n",
       "       5.96470779e-05, 9.14784067e-05, 2.32097271e-03, 2.79372017e-04,\n",
       "       7.81000156e-04, 7.51329443e-05, 1.52542758e-05, 4.71902157e-03,\n",
       "       7.92086064e-04, 5.18868019e-03, 6.78610796e-03, 7.97253119e-05,\n",
       "       7.10127920e-05, 6.48284167e-05, 5.15281772e-05, 2.37528597e-04,\n",
       "       4.04481197e-04, 1.52755857e-04, 1.29878389e-04, 3.46205913e-05,\n",
       "       2.38836123e-04, 3.78590298e-04, 1.74658436e-04, 1.19568152e-04,\n",
       "       1.78266893e-04, 7.73717607e-05, 2.98552390e-05, 6.64611224e-05,\n",
       "       2.38089688e-03, 2.69815578e-04, 2.19777303e-04, 1.63565621e-04,\n",
       "       6.52769041e-05, 2.87918524e-04, 1.55622673e-04, 1.14175416e-04,\n",
       "       8.18404014e-05, 9.68293113e-05, 8.78319745e-05, 8.97810316e-05,\n",
       "       4.10268139e-05, 4.58383710e-03, 1.82573488e-04, 4.75490565e-05,\n",
       "       4.24097841e-03, 4.26550657e-04, 3.44348383e-04, 3.32551128e-03,\n",
       "       1.88105014e-04, 4.27313987e-04, 2.86642640e-03, 6.90389964e-04,\n",
       "       3.44568538e-04, 3.26044545e-05, 5.26760721e-05, 2.01422419e-05,\n",
       "       2.88203270e-03, 7.54923180e-03, 5.33242148e-04, 1.70969089e-04,\n",
       "       1.09881985e-04, 1.34396750e-04, 7.56014253e-05, 9.41862186e-03,\n",
       "       4.11244263e-05, 7.73024895e-05, 4.72138763e-05, 8.96938124e-05,\n",
       "       7.45270962e-05, 1.33003301e-03, 1.78528263e-03, 2.15565007e-03,\n",
       "       2.87534710e-03, 1.42874338e-03, 1.14415594e-03, 5.17916516e-04,\n",
       "       2.66604402e-04, 2.44628809e-04, 3.17448659e-03, 2.71262532e-03,\n",
       "       2.15574764e-04, 1.69222453e-04, 3.81473682e-05, 1.16209045e-04,\n",
       "       4.19370586e-05, 1.07722964e-04, 2.95838926e-03, 1.46683853e-04,\n",
       "       9.60764453e-05, 2.57522157e-05, 2.90090093e-03, 1.06404241e-04,\n",
       "       1.16194466e-03, 5.43348745e-04, 1.55086904e-04, 1.17482413e-04,\n",
       "       6.47285430e-05, 3.06846669e-05, 7.19900018e-05, 3.04083034e-05,\n",
       "       2.41844638e-04, 2.22715008e-04, 6.77037690e-05, 1.11925490e-05,\n",
       "       1.72192201e-04, 4.05979070e-05, 1.25653133e-03, 3.39567984e-04,\n",
       "       1.74095943e-03, 3.96580846e-04, 1.70965761e-04, 6.60253307e-05,\n",
       "       1.58817871e-05, 2.60543898e-05, 6.44298941e-04, 1.92636485e-03,\n",
       "       8.13099004e-05, 4.94286979e-05, 4.22291710e-04, 1.91324844e-04,\n",
       "       9.03495702e-03, 6.59978244e-03, 9.47446793e-04, 4.85512727e-03,\n",
       "       6.92118978e-03, 4.14184329e-04, 4.64489078e-03, 2.15747209e-04,\n",
       "       2.56289374e-03, 6.84789248e-03, 6.51261865e-04, 1.39674637e-04,\n",
       "       1.93709462e-05, 3.75688374e-05, 1.17310014e-05, 4.65286653e-03,\n",
       "       6.85477623e-03, 2.35675778e-03, 5.56197226e-04, 2.56844807e-03,\n",
       "       4.81107998e-05, 6.42281153e-04, 6.65122655e-03, 8.60314497e-06,\n",
       "       2.50368679e-04, 1.40104498e-03, 3.79028313e-04, 1.18092752e-03,\n",
       "       7.11478885e-05, 6.67417628e-05, 1.03755358e-04, 1.43610716e-04,\n",
       "       8.03815785e-05, 5.99265199e-05, 1.34344170e-04, 8.54699466e-05,\n",
       "       3.39957133e-05, 1.99083301e-02, 2.73251490e-03, 2.52826795e-03,\n",
       "       6.57597008e-05, 8.02799058e-05, 8.62088380e-05, 4.87530622e-05,\n",
       "       4.21816847e-05, 8.84382507e-03, 1.26293430e-04, 2.34086749e-03,\n",
       "       6.56530756e-05, 7.19535422e-03, 1.27269079e-04, 2.24351580e-03,\n",
       "       1.79984283e-04, 1.19083579e-03, 1.83563669e-04, 1.34265113e-04,\n",
       "       7.13651170e-05, 3.19742461e-05, 3.25601625e-05, 1.35350451e-04,\n",
       "       2.25698700e-04, 5.00157864e-05, 9.79559239e-05, 4.75595947e-04,\n",
       "       2.47479600e-03, 6.11971561e-04, 1.88744794e-04, 1.63281682e-03,\n",
       "       3.16315084e-04, 9.77020967e-05, 1.44301843e-04, 6.53755157e-05,\n",
       "       3.28301686e-05, 2.96350640e-04, 1.31428687e-03, 1.68646929e-04,\n",
       "       6.65158054e-05, 1.90378075e-04, 2.56261100e-04, 1.84813239e-03,\n",
       "       2.58535915e-04, 2.57291320e-04, 2.07058133e-03, 4.56758786e-04,\n",
       "       7.01851447e-04, 1.28104860e-03, 5.54562090e-04, 2.14300380e-04,\n",
       "       2.74271405e-03, 4.26504645e-04, 8.25410259e-04, 2.70517418e-05,\n",
       "       7.52152992e-06, 2.92956082e-04, 1.47941145e-04, 2.62061124e-03,\n",
       "       6.96096843e-04, 5.98810841e-04, 5.14233017e-04, 1.68946717e-04,\n",
       "       9.17155178e-05, 1.90505421e-03, 2.11669698e-04, 1.24076920e-04,\n",
       "       1.67614407e-03, 1.08894492e-03, 3.89430324e-03, 4.33143376e-03,\n",
       "       1.95070230e-04, 1.39978796e-04, 5.26581335e-04, 3.09809282e-04,\n",
       "       5.31917667e-04, 4.58884454e-04, 8.91273968e-04, 3.62488247e-04,\n",
       "       3.87452223e-03, 1.92162469e-03, 3.10927917e-04, 1.88614934e-04,\n",
       "       1.69966245e-04, 3.70193770e-04, 3.08096736e-04, 1.85167005e-04,\n",
       "       1.35896020e-03, 5.09692824e-04, 2.47987316e-04, 3.27791729e-04,\n",
       "       1.86197131e-03, 3.56183569e-04, 7.94752071e-04, 1.05684453e-04,\n",
       "       2.98867771e-04, 2.04740027e-04, 2.41169230e-04, 1.12443714e-04,\n",
       "       1.46064797e-05, 7.80211871e-05, 4.31155726e-04, 6.34464409e-04,\n",
       "       1.47250834e-04, 5.79211373e-05, 5.11941116e-04, 2.40743513e-04,\n",
       "       9.10867035e-04, 6.34573348e-05, 4.56344700e-04, 4.44241882e-04,\n",
       "       1.25821723e-04, 1.51703163e-04, 1.79285958e-04, 2.62076069e-04,\n",
       "       5.71890916e-04, 4.47785805e-04, 2.21615005e-04, 1.95797549e-04,\n",
       "       4.28156160e-04, 1.20934187e-04, 2.78345764e-03, 7.14736982e-03,\n",
       "       1.24373452e-02, 3.67223162e-03, 1.77558055e-05, 5.51577123e-03,\n",
       "       1.38447835e-02, 1.05707066e-03, 1.80378409e-03, 9.17051687e-05,\n",
       "       1.93788633e-03, 6.31930678e-05, 1.21763441e-04, 2.18014794e-03,\n",
       "       5.63525238e-04, 2.04194464e-04, 1.35870251e-03, 1.20481171e-05,\n",
       "       2.60130644e-03, 1.03262890e-03, 2.73057002e-05, 7.38954088e-05,\n",
       "       1.44584876e-04, 5.13666291e-05, 4.98859027e-04, 2.35163476e-04,\n",
       "       8.82687407e-05, 7.17771444e-05, 8.14661178e-05, 3.33174867e-05,\n",
       "       1.21228458e-04, 2.87639839e-04, 1.74577941e-04, 2.44626552e-04,\n",
       "       3.28417684e-05, 4.46839347e-04, 6.69328569e-04, 2.21664845e-04,\n",
       "       8.51634273e-05, 1.09066002e-04, 4.28201195e-04, 2.08332250e-04,\n",
       "       1.36891723e-04, 7.30222229e-05, 9.12642740e-05, 2.81621065e-04,\n",
       "       8.07788676e-05, 1.08559136e-04, 2.56901410e-04, 4.73115537e-05,\n",
       "       1.25664304e-04, 1.25568314e-04, 2.73113404e-05, 2.81396567e-05,\n",
       "       2.56174445e-04, 3.76051559e-04, 3.67056473e-02, 2.67228995e-02,\n",
       "       1.04005736e-02])"
      ]
     },
     "execution_count": 14,
     "metadata": {},
     "output_type": "execute_result"
    }
   ],
   "source": [
    "rf_clf.feature_importances_"
   ]
  },
  {
   "cell_type": "code",
   "execution_count": 15,
   "id": "4703b59f-45a9-4ece-ae76-625c20677994",
   "metadata": {
    "collapsed": true,
    "jupyter": {
     "outputs_hidden": true
    },
    "tags": []
   },
   "outputs": [
    {
     "data": {
      "text/plain": [
       "array([0.  , 0.  , 0.  , 0.01, 0.  , 0.  , 0.  , 0.  , 0.  , 0.01, 0.  ,\n",
       "       0.  , 0.  , 0.  , 0.  , 0.  , 0.  , 0.  , 0.  , 0.  , 0.  , 0.  ,\n",
       "       0.  , 0.  , 0.  , 0.  , 0.  , 0.  , 0.  , 0.  , 0.  , 0.  , 0.  ,\n",
       "       0.  , 0.  , 0.  , 0.  , 0.01, 0.  , 0.  , 0.03, 0.03, 0.01, 0.  ,\n",
       "       0.  , 0.  , 0.  , 0.  , 0.  , 0.02, 0.02, 0.01, 0.03, 0.02, 0.01,\n",
       "       0.  , 0.03, 0.02, 0.01, 0.  , 0.  , 0.  , 0.  , 0.01, 0.  , 0.01,\n",
       "       0.01, 0.01, 0.  , 0.01, 0.01, 0.01, 0.  , 0.01, 0.01, 0.01, 0.  ,\n",
       "       0.  , 0.  , 0.  , 0.  , 0.  , 0.  , 0.  , 0.  , 0.  , 0.  , 0.  ,\n",
       "       0.  , 0.  , 0.  , 0.  , 0.  , 0.  , 0.  , 0.  , 0.01, 0.  , 0.  ,\n",
       "       0.01, 0.  , 0.  , 0.01, 0.  , 0.  , 0.  , 0.  , 0.  , 0.  , 0.  ,\n",
       "       0.  , 0.  , 0.  , 0.  , 0.  , 0.  , 0.  , 0.  , 0.  , 0.  , 0.  ,\n",
       "       0.  , 0.  , 0.  , 0.  , 0.  , 0.  , 0.  , 0.  , 0.  , 0.  , 0.  ,\n",
       "       0.  , 0.  , 0.  , 0.  , 0.  , 0.  , 0.  , 0.  , 0.  , 0.  , 0.  ,\n",
       "       0.  , 0.  , 0.  , 0.  , 0.  , 0.  , 0.  , 0.  , 0.  , 0.  , 0.  ,\n",
       "       0.  , 0.  , 0.  , 0.  , 0.  , 0.  , 0.  , 0.  , 0.  , 0.  , 0.  ,\n",
       "       0.  , 0.  , 0.  , 0.  , 0.  , 0.  , 0.  , 0.  , 0.  , 0.  , 0.  ,\n",
       "       0.  , 0.  , 0.  , 0.  , 0.  , 0.01, 0.  , 0.  , 0.  , 0.  , 0.  ,\n",
       "       0.  , 0.  , 0.  , 0.  , 0.  , 0.  , 0.  , 0.  , 0.  , 0.  , 0.  ,\n",
       "       0.  , 0.  , 0.  , 0.01, 0.01, 0.  , 0.  , 0.  , 0.  , 0.  , 0.  ,\n",
       "       0.01, 0.  , 0.  , 0.  , 0.  , 0.01, 0.01, 0.  , 0.  , 0.  , 0.  ,\n",
       "       0.  , 0.  , 0.01, 0.  , 0.  , 0.  , 0.  , 0.  , 0.  , 0.  , 0.  ,\n",
       "       0.  , 0.  , 0.01, 0.01, 0.  , 0.  , 0.  , 0.  , 0.  , 0.  , 0.  ,\n",
       "       0.  , 0.  , 0.  , 0.  , 0.  , 0.  , 0.  , 0.  , 0.  , 0.  , 0.  ,\n",
       "       0.  , 0.  , 0.  , 0.  , 0.  , 0.  , 0.  , 0.  , 0.  , 0.  , 0.  ,\n",
       "       0.  , 0.  , 0.  , 0.  , 0.  , 0.  , 0.  , 0.  , 0.  , 0.  , 0.  ,\n",
       "       0.  , 0.  , 0.  , 0.  , 0.  , 0.  , 0.01, 0.  , 0.  , 0.  , 0.  ,\n",
       "       0.  , 0.01, 0.  , 0.  , 0.  , 0.  , 0.  , 0.  , 0.  , 0.  , 0.  ,\n",
       "       0.  , 0.  , 0.  , 0.  , 0.  , 0.  , 0.  , 0.  , 0.  , 0.  , 0.  ,\n",
       "       0.  , 0.  , 0.  , 0.  , 0.  , 0.  , 0.  , 0.  , 0.  , 0.  , 0.  ,\n",
       "       0.  , 0.  , 0.  , 0.  , 0.  , 0.  , 0.  , 0.  , 0.  , 0.  , 0.  ,\n",
       "       0.  , 0.  , 0.  , 0.  , 0.  , 0.  , 0.  , 0.  , 0.  , 0.  , 0.  ,\n",
       "       0.  , 0.  , 0.  , 0.01, 0.01, 0.  , 0.  , 0.01, 0.  , 0.  , 0.  ,\n",
       "       0.  , 0.01, 0.  , 0.  , 0.  , 0.  , 0.  , 0.  , 0.01, 0.  , 0.  ,\n",
       "       0.  , 0.  , 0.  , 0.01, 0.  , 0.  , 0.  , 0.  , 0.  , 0.  , 0.  ,\n",
       "       0.  , 0.  , 0.  , 0.  , 0.  , 0.  , 0.  , 0.02, 0.  , 0.  , 0.  ,\n",
       "       0.  , 0.  , 0.  , 0.  , 0.01, 0.  , 0.  , 0.  , 0.01, 0.  , 0.  ,\n",
       "       0.  , 0.  , 0.  , 0.  , 0.  , 0.  , 0.  , 0.  , 0.  , 0.  , 0.  ,\n",
       "       0.  , 0.  , 0.  , 0.  , 0.  , 0.  , 0.  , 0.  , 0.  , 0.  , 0.  ,\n",
       "       0.  , 0.  , 0.  , 0.  , 0.  , 0.  , 0.  , 0.  , 0.  , 0.  , 0.  ,\n",
       "       0.  , 0.  , 0.  , 0.  , 0.  , 0.  , 0.  , 0.  , 0.  , 0.  , 0.  ,\n",
       "       0.  , 0.  , 0.  , 0.  , 0.  , 0.  , 0.  , 0.  , 0.  , 0.  , 0.  ,\n",
       "       0.  , 0.  , 0.  , 0.  , 0.  , 0.  , 0.  , 0.  , 0.  , 0.  , 0.  ,\n",
       "       0.  , 0.  , 0.  , 0.  , 0.  , 0.  , 0.  , 0.  , 0.  , 0.  , 0.  ,\n",
       "       0.  , 0.  , 0.  , 0.  , 0.  , 0.  , 0.  , 0.  , 0.  , 0.  , 0.  ,\n",
       "       0.  , 0.  , 0.  , 0.  , 0.  , 0.  , 0.  , 0.  , 0.  , 0.  , 0.  ,\n",
       "       0.  , 0.  , 0.  , 0.  , 0.  , 0.  , 0.  , 0.  , 0.01, 0.01, 0.  ,\n",
       "       0.  , 0.01, 0.01, 0.  , 0.  , 0.  , 0.  , 0.  , 0.  , 0.  , 0.  ,\n",
       "       0.  , 0.  , 0.  , 0.  , 0.  , 0.  , 0.  , 0.  , 0.  , 0.  , 0.  ,\n",
       "       0.  , 0.  , 0.  , 0.  , 0.  , 0.  , 0.  , 0.  , 0.  , 0.  , 0.  ,\n",
       "       0.  , 0.  , 0.  , 0.  , 0.  , 0.  , 0.  , 0.  , 0.  , 0.  , 0.  ,\n",
       "       0.  , 0.  , 0.  , 0.  , 0.  , 0.  , 0.  , 0.  , 0.04, 0.03, 0.01])"
      ]
     },
     "execution_count": 15,
     "metadata": {},
     "output_type": "execute_result"
    }
   ],
   "source": [
    "import numpy as np\n",
    "np.round(rf_clf.feature_importances_,2)"
   ]
  },
  {
   "cell_type": "code",
   "execution_count": 18,
   "id": "b013b3ef-07df-4e8e-b00e-506ad521f431",
   "metadata": {},
   "outputs": [],
   "source": [
    "import matplotlib.pyplot as plt\n",
    "import seaborn as sns"
   ]
  },
  {
   "cell_type": "code",
   "execution_count": 21,
   "id": "7de3248b-8e45-4f1b-bfbc-5d7f9a6b6d6c",
   "metadata": {},
   "outputs": [
    {
     "data": {
      "image/png": "[encoded data removed]",
      "text/plain": [
       "<Figure size 800x600 with 1 Axes>"
      ]
     },
     "metadata": {},
     "output_type": "display_data"
    }
   ],
   "source": [
    "ftr_im = rf_clf.feature_importances_\n",
    "ftr_im_s = pd.Series(ftr_im,index=x_train.columns)\n",
    "top20 = ftr_im_s.sort_values(ascending=False)[:20]\n",
    "\n",
    "plt.figure(figsize=(8,6))\n",
    "sns.barplot(x=top20,y=top20.index)\n",
    "plt.show()"
   ]
  },
  {
   "cell_type": "code",
   "execution_count": 16,
   "id": "4d4c84aa-deda-4f02-ad60-1f72e50a2b0a",
   "metadata": {},
   "outputs": [],
   "source": [
    "data = pd.Series(rf_clf.feature_importances_,\n",
    "          index=x_train.columns)"
   ]
  },
  {
   "cell_type": "code",
   "execution_count": 17,
   "id": "22db5f5b-50ff-4979-85ac-a25d569d3e61",
   "metadata": {},
   "outputs": [
    {
     "data": {
      "text/plain": [
       "tBodyAcc-mean()-X                       0.000068\n",
       "tBodyAcc-mean()-Y                       0.000208\n",
       "tBodyAcc-mean()-Z                       0.000089\n",
       "tBodyAcc-std()-X                        0.006275\n",
       "tBodyAcc-std()-Y                        0.000157\n",
       "                                          ...   \n",
       "angle(tBodyGyroMean,gravityMean)        0.000256\n",
       "angle(tBodyGyroJerkMean,gravityMean)    0.000376\n",
       "angle(X,gravityMean)                    0.036706\n",
       "angle(Y,gravityMean)                    0.026723\n",
       "angle(Z,gravityMean)                    0.010401\n",
       "Length: 561, dtype: float64"
      ]
     },
     "execution_count": 17,
     "metadata": {},
     "output_type": "execute_result"
    }
   ],
   "source": [
    "data"
   ]
  },
  {
   "cell_type": "code",
   "execution_count": 22,
   "id": "726443ed-4c48-49d1-9720-c93c8c9c9f6f",
   "metadata": {},
   "outputs": [],
   "source": [
    "from sklearn.ensemble import GradientBoostingClassifier"
   ]
  },
  {
   "cell_type": "code",
   "execution_count": 23,
   "id": "64731bc0-e38c-4bc9-afb6-4ba16636e135",
   "metadata": {},
   "outputs": [
    {
     "name": "stderr",
     "output_type": "stream",
     "text": [
      "C:\\Users\\admin\\AppData\\Local\\anaconda3\\lib\\site-packages\\sklearn\\ensemble\\_gb.py:437: DataConversionWarning: A column-vector y was passed when a 1d array was expected. Please change the shape of y to (n_samples, ), for example using ravel().\n",
      "  y = column_or_1d(y, warn=True)\n"
     ]
    },
    {
     "name": "stdout",
     "output_type": "stream",
     "text": [
      "CPU times: total: 11min 28s\n",
      "Wall time: 11min 30s\n"
     ]
    },
    {
     "data": {
      "text/plain": [
       "0.9389209365456397"
      ]
     },
     "execution_count": 23,
     "metadata": {},
     "output_type": "execute_result"
    }
   ],
   "source": [
    "%%time\n",
    "gb_clf = GradientBoostingClassifier(random_state=0)\n",
    "gb_clf.fit(x_train,y_train.values.ravel()) # 경고메세지안뜨게하는거 values.ravel() 붙여줌\n",
    "pred = gb_clf.predict(x_test)\n",
    "accuracy_score(y_test,pred)"
   ]
  },
  {
   "cell_type": "code",
   "execution_count": 26,
   "id": "7a2bd86e-1c84-4250-83ae-0b974a00eddd",
   "metadata": {},
   "outputs": [
    {
     "data": {
      "text/plain": [
       "array([5, 5, 5, ..., 2, 2, 2], dtype=int64)"
      ]
     },
     "execution_count": 26,
     "metadata": {},
     "output_type": "execute_result"
    }
   ],
   "source": [
    "y_train.values.ravel()"
   ]
  },
  {
   "cell_type": "code",
   "execution_count": 24,
   "id": "46095f83-f6b5-47ee-b9f9-29723089d3a3",
   "metadata": {},
   "outputs": [],
   "source": [
    "from sklearn.model_selection import GridSearchCV"
   ]
  },
  {
   "cell_type": "code",
   "execution_count": 25,
   "id": "fce99a8c-c07d-401a-9a92-796f868c295b",
   "metadata": {},
   "outputs": [
    {
     "name": "stdout",
     "output_type": "stream",
     "text": [
      "Fitting 2 folds for each of 4 candidates, totalling 8 fits\n"
     ]
    },
    {
     "name": "stderr",
     "output_type": "stream",
     "text": [
      "C:\\Users\\admin\\AppData\\Local\\anaconda3\\lib\\site-packages\\sklearn\\ensemble\\_gb.py:437: DataConversionWarning: A column-vector y was passed when a 1d array was expected. Please change the shape of y to (n_samples, ), for example using ravel().\n",
      "  y = column_or_1d(y, warn=True)\n",
      "C:\\Users\\admin\\AppData\\Local\\anaconda3\\lib\\site-packages\\sklearn\\ensemble\\_gb.py:437: DataConversionWarning: A column-vector y was passed when a 1d array was expected. Please change the shape of y to (n_samples, ), for example using ravel().\n",
      "  y = column_or_1d(y, warn=True)\n",
      "C:\\Users\\admin\\AppData\\Local\\anaconda3\\lib\\site-packages\\sklearn\\ensemble\\_gb.py:437: DataConversionWarning: A column-vector y was passed when a 1d array was expected. Please change the shape of y to (n_samples, ), for example using ravel().\n",
      "  y = column_or_1d(y, warn=True)\n",
      "C:\\Users\\admin\\AppData\\Local\\anaconda3\\lib\\site-packages\\sklearn\\ensemble\\_gb.py:437: DataConversionWarning: A column-vector y was passed when a 1d array was expected. Please change the shape of y to (n_samples, ), for example using ravel().\n",
      "  y = column_or_1d(y, warn=True)\n",
      "C:\\Users\\admin\\AppData\\Local\\anaconda3\\lib\\site-packages\\sklearn\\ensemble\\_gb.py:437: DataConversionWarning: A column-vector y was passed when a 1d array was expected. Please change the shape of y to (n_samples, ), for example using ravel().\n",
      "  y = column_or_1d(y, warn=True)\n",
      "C:\\Users\\admin\\AppData\\Local\\anaconda3\\lib\\site-packages\\sklearn\\ensemble\\_gb.py:437: DataConversionWarning: A column-vector y was passed when a 1d array was expected. Please change the shape of y to (n_samples, ), for example using ravel().\n",
      "  y = column_or_1d(y, warn=True)\n",
      "C:\\Users\\admin\\AppData\\Local\\anaconda3\\lib\\site-packages\\sklearn\\ensemble\\_gb.py:437: DataConversionWarning: A column-vector y was passed when a 1d array was expected. Please change the shape of y to (n_samples, ), for example using ravel().\n",
      "  y = column_or_1d(y, warn=True)\n",
      "C:\\Users\\admin\\AppData\\Local\\anaconda3\\lib\\site-packages\\sklearn\\ensemble\\_gb.py:437: DataConversionWarning: A column-vector y was passed when a 1d array was expected. Please change the shape of y to (n_samples, ), for example using ravel().\n",
      "  y = column_or_1d(y, warn=True)\n",
      "C:\\Users\\admin\\AppData\\Local\\anaconda3\\lib\\site-packages\\sklearn\\ensemble\\_gb.py:437: DataConversionWarning: A column-vector y was passed when a 1d array was expected. Please change the shape of y to (n_samples, ), for example using ravel().\n",
      "  y = column_or_1d(y, warn=True)\n"
     ]
    },
    {
     "name": "stdout",
     "output_type": "stream",
     "text": [
      "{'learning_rate': 0.05, 'n_estimators': 500}\n",
      "0.9001632208922742\n",
      "CPU times: total: 2h 45min 7s\n",
      "Wall time: 2h 59min 48s\n"
     ]
    }
   ],
   "source": [
    "%%time\n",
    "params = {\n",
    "    'n_estimators':[100,500],\n",
    "    'learning_rate':[0.05,0.1]\n",
    "}\n",
    "grid_cv = GridSearchCV(gb_clf,param_grid=params,cv=2,verbose=1)\n",
    "grid_cv.fit(x_train,y_train)\n",
    "print(grid_cv.best_params_)\n",
    "print(grid_cv.best_score_)"
   ]
  },
  {
   "cell_type": "code",
   "execution_count": 28,
   "id": "7935c988-eaaf-420f-ab7a-81499109702d",
   "metadata": {},
   "outputs": [
    {
     "name": "stdout",
     "output_type": "stream",
     "text": [
      "GBM 정확도:0.9393\n"
     ]
    }
   ],
   "source": [
    "gb_pred = grid_cv.best_estimator_.predict(x_test)\n",
    "gb_accuracy = accuracy_score(y_test,gb_pred)\n",
    "print('GBM 정확도:{0:.4f}'.format(gb_accuracy))"
   ]
  },
  {
   "cell_type": "code",
   "execution_count": null,
   "id": "2297727c-184b-44b1-a534-d6d388135d58",
   "metadata": {},
   "outputs": [],
   "source": []
  }
 ],
 "metadata": {
  "kernelspec": {
   "display_name": "Python 3 (ipykernel)",
   "language": "python",
   "name": "python3"
  },
  "language_info": {
   "codemirror_mode": {
    "name": "ipython",
    "version": 3
   },
   "file_extension": ".py",
   "mimetype": "text/x-python",
   "name": "python",
   "nbconvert_exporter": "python",
   "pygments_lexer": "ipython3",
   "version": "3.10.9"
  }
 },
 "nbformat": 4,
 "nbformat_minor": 5
}
